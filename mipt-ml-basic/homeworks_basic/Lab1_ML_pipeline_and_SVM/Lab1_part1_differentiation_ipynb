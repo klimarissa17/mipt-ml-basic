{
  "nbformat": 4,
  "nbformat_minor": 0,
  "metadata": {
    "kernelspec": {
      "display_name": "Py3 research env",
      "language": "python",
      "name": "py3_research"
    },
    "language_info": {
      "codemirror_mode": {
        "name": "ipython",
        "version": 3
      },
      "file_extension": ".py",
      "mimetype": "text/x-python",
      "name": "python",
      "nbconvert_exporter": "python",
      "pygments_lexer": "ipython3",
      "version": "3.7.7"
    },
    "colab": {
      "name": "Копия блокнота \"Lab1_part1_differentiation.ipynb\"",
      "provenance": [],
      "include_colab_link": true
    }
  },
  "cells": [
    {
      "cell_type": "markdown",
      "metadata": {
        "id": "view-in-github",
        "colab_type": "text"
      },
      "source": [
        "<a href=\"https://colab.research.google.com/github/klimarissa17/mipt-ml-basic/blob/main/mipt-ml-basic/homeworks_basic/Lab1_ML_pipeline_and_SVM/Lab1_part1_differentiation_ipynb\" target=\"_parent\"><img src=\"https://colab.research.google.com/assets/colab-badge.svg\" alt=\"Open In Colab\"/></a>"
      ]
    },
    {
      "cell_type": "markdown",
      "metadata": {
        "id": "coQXVTuLgZMM"
      },
      "source": [
        "*Credits: materials from this notebook belong to YSDA [Practical DL](https://github.com/yandexdataschool/Practical_DL) course. Special thanks for making them available online.*"
      ]
    },
    {
      "cell_type": "markdown",
      "metadata": {
        "id": "IimU-YBpgZMQ"
      },
      "source": [
        "# Lab assignment №1, part 1\n",
        "\n",
        "This lab assignment consists of several parts. You are supposed to make some transformations, train some models, estimate the quality of the models and explain your results.\n",
        "\n",
        "Several comments:\n",
        "* Don't hesitate to ask questions, it's a good practice.\n",
        "* No private/public sharing, please. The copied assignments will be graded with 0 points.\n",
        "* Blocks of this lab will be graded separately."
      ]
    },
    {
      "cell_type": "markdown",
      "metadata": {
        "id": "pXWYbmWHgZMS"
      },
      "source": [
        "## Part 1. Matrix differentiation"
      ]
    },
    {
      "cell_type": "markdown",
      "metadata": {
        "id": "HiktJCvXgZMT"
      },
      "source": [
        "Since it easy to google every task please please please try to undestand what's going on. The \"just answer\" thing will be not counted, make sure to present derivation of your solution. It is absolutely OK if you found an answer on web then just exercise in $\\LaTeX$ copying it into here."
      ]
    },
    {
      "cell_type": "code",
      "metadata": {
        "id": "R7W7xHPkgZMU"
      },
      "source": [
        "# If on colab, uncomment the following lines\n",
        "\n",
        "! wget https://raw.githubusercontent.com/girafe-ai/ml-mipt/basic_f20/homeworks_basic/Lab1_ML_pipeline_and_SVM/grad.png"
      ],
      "execution_count": null,
      "outputs": []
    },
    {
      "cell_type": "markdown",
      "metadata": {
        "id": "c6IFn9Z7gZMW"
      },
      "source": [
        "Useful links: \n",
        "[1](http://www.machinelearning.ru/wiki/images/2/2a/Matrix-Gauss.pdf)\n",
        "[2](http://www.atmos.washington.edu/~dennis/MatrixCalculus.pdf)\n",
        "[3](http://cal.cs.illinois.edu/~johannes/research/matrix%20calculus.pdf)\n",
        "[4](http://research.microsoft.com/en-us/um/people/cmbishop/prml/index.htm)"
      ]
    },
    {
      "cell_type": "markdown",
      "metadata": {
        "id": "3R5-cBCdgZMX"
      },
      "source": [
        "## ex. 1"
      ]
    },
    {
      "cell_type": "markdown",
      "metadata": {
        "id": "U_TdQatDgZMZ"
      },
      "source": [
        "$$  \n",
        "y = x^Tx,  \\quad x \\in \\mathbb{R}^N \n",
        "$$"
      ]
    },
    {
      "cell_type": "markdown",
      "metadata": {
        "id": "lZ8BJ0I802NF"
      },
      "source": [
        "$$\n",
        "\\frac{\\partial}{\\partial x_p}x^Tx = \\frac{\\partial}{\\partial x_p}\\sum\\limits_{i=1}^n x_i^2 = 2x_p\n",
        "$$"
      ]
    },
    {
      "cell_type": "markdown",
      "metadata": {
        "id": "WD4cZ6i30450"
      },
      "source": [
        "Therefore, \n",
        "$$\n",
        "\\frac{dy}{dx} =  2x\n",
        "$$\n",
        "\n"
      ]
    },
    {
      "cell_type": "markdown",
      "metadata": {
        "id": "pLLR1g-CgZMd"
      },
      "source": [
        "## ex. 2"
      ]
    },
    {
      "cell_type": "markdown",
      "metadata": {
        "id": "G759_ecLgZMd"
      },
      "source": [
        "$$ y = tr(AB) \\quad A,B \\in \\mathbb{R}^{N \\times N} $$ "
      ]
    },
    {
      "cell_type": "markdown",
      "metadata": {
        "id": "QM3ztf9E1jDM"
      },
      "source": [
        "$$\n",
        "\\frac{\\partial}{\\partial a_{pq}}tr(AB) = \\frac{\\partial}{\\partial a_{pq}}\\sum\\limits_{i,j=1}^n a_{ij}b_{ji}= b_{qp} = b_{qp}\n",
        "$$"
      ]
    },
    {
      "cell_type": "markdown",
      "metadata": {
        "id": "helYeZkcgZMe"
      },
      "source": [
        "Therefore, \n",
        "$$\n",
        "\\frac{dy}{dA} = B^T\n",
        "$$"
      ]
    },
    {
      "cell_type": "markdown",
      "metadata": {
        "id": "yMo31D8WgZMf"
      },
      "source": [
        "## ex. 3"
      ]
    },
    {
      "cell_type": "markdown",
      "metadata": {
        "id": "2R4vM851gZMf"
      },
      "source": [
        "$$  \n",
        "y = x^TAc , \\quad A\\in \\mathbb{R}^{N \\times N}, x\\in \\mathbb{R}^{N}, c\\in \\mathbb{R}^{N} \n",
        "$$"
      ]
    },
    {
      "cell_type": "markdown",
      "metadata": {
        "id": "whlO0OdG5H6L"
      },
      "source": [
        "$$\n",
        "\\frac{\\partial}{\\partial x_p}x^TAc = \\frac{\\partial}{\\partial x_p}(\\sum\\limits_{i=1}^n c_i \\cdot \\sum\\limits_{j=1}^n x_j a_{ji}) = \\sum\\limits_{i=1}^n c_i a_{pi}\n",
        "$$"
      ]
    },
    {
      "cell_type": "markdown",
      "metadata": {
        "id": "X_7fJdMRgZMg"
      },
      "source": [
        "Therefore, \n",
        "$$\n",
        "\\frac{dy}{dx} = Ac\n",
        "$$"
      ]
    },
    {
      "cell_type": "markdown",
      "metadata": {
        "id": "Fw1jFn5Z-bbU"
      },
      "source": [
        "$$\n",
        "\\frac{\\partial}{\\partial a_{pq}}x^TAc = \\frac{\\partial}{\\partial a_{pq}} (\\sum\\limits_{i=1}^n c_i \\cdot \\sum\\limits_{j=1}^n x_j a_{ji}) = x_p c_q\n",
        "$$"
      ]
    },
    {
      "cell_type": "markdown",
      "metadata": {
        "id": "EAJ16GNggZNA"
      },
      "source": [
        "Therefore, \n",
        "$$\n",
        "\\frac{dy}{dA} = xc^T\n",
        "$$ "
      ]
    },
    {
      "cell_type": "markdown",
      "metadata": {
        "id": "EY6i2VmcgZNB"
      },
      "source": [
        "Hint for the latter (one of the ways): use *ex. 2* result and the fact \n",
        "$$\n",
        "tr(ABC) = tr (CAB)\n",
        "$$"
      ]
    },
    {
      "cell_type": "markdown",
      "metadata": {
        "id": "d-CTLiwjgZNC"
      },
      "source": [
        "## ex. 4"
      ]
    },
    {
      "cell_type": "markdown",
      "metadata": {
        "id": "yCbfOyiOgZND"
      },
      "source": [
        "Classic matrix factorization example. Given matrix $X$ you need to find $A$, $S$ to approximate $X$. This can be done by simple gradient descent iteratively alternating $A$ and $S$ updates.\n",
        "$$\n",
        "J = || X - AS ||_F^2  , \\quad A\\in \\mathbb{R}^{N \\times R} , \\quad S\\in \\mathbb{R}^{R \\times M}\n",
        "$$\n",
        "$$\n",
        "\\frac{dJ}{dS} = ? \n",
        "$$\n",
        "\n",
        "You may use one of the following approaches:"
      ]
    },
    {
      "cell_type": "markdown",
      "metadata": {
        "id": "HbU_BDHkgZNF"
      },
      "source": [
        "#### First approach\n",
        "Using ex.2 and the fact:\n",
        "$$\n",
        "|| X ||_F^2 = tr(XX^T) \n",
        "$$ \n",
        "it is easy to derive gradients (you can find it in one of the refs). "
      ]
    },
    {
      "cell_type": "markdown",
      "metadata": {
        "collapsed": true,
        "id": "IPzn63nkgZNG"
      },
      "source": [
        "#### Second approach\n",
        "You can use *slightly different techniques* if they suits you. Take a look at this derivation:\n",
        "<img src=\"https://github.com/girafe-ai/ml-mipt/blob/basic_s21/homeworks_basic/Lab1_ML_pipeline_and_SVM/grad.png?raw=1\">\n",
        "(excerpt from [Handbook of blind source separation, Jutten, page 517](https://books.google.ru/books?id=PTbj03bYH6kC&printsec=frontcover&dq=Handbook+of+Blind+Source+Separation&hl=en&sa=X&ved=0ahUKEwi-q_apiJDLAhULvXIKHVXJDWcQ6AEIHDAA#v=onepage&q=Handbook%20of%20Blind%20Source%20Separation&f=false), open for better picture)."
      ]
    },
    {
      "cell_type": "markdown",
      "metadata": {
        "collapsed": true,
        "id": "_cVT2u4ugZNG"
      },
      "source": [
        "#### Third approach\n",
        "And finally we can use chain rule! \n",
        "let $ F = AS $ \n",
        "\n",
        "**Find**\n",
        "$$\n",
        "\\frac{dJ}{dF} =  \n",
        "$$ \n",
        "and \n",
        "$$\n",
        "\\frac{dF}{dS} =  \n",
        "$$ \n",
        "(the shape should be $ NM \\times RM )$.\n",
        "\n",
        "Now it is easy do get desired gradients:\n",
        "$$\n",
        "\\frac{dJ}{dS} =  \n",
        "$$ "
      ]
    },
    {
      "cell_type": "code",
      "metadata": {
        "collapsed": true,
        "id": "OO0PSJwWgZNY"
      },
      "source": [
        ""
      ],
      "execution_count": null,
      "outputs": []
    }
  ]
}