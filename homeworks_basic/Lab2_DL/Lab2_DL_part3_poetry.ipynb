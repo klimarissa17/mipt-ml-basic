{
  "nbformat": 4,
  "nbformat_minor": 0,
  "metadata": {
    "anaconda-cloud": {},
    "kernelspec": {
      "display_name": "Python 3",
      "language": "python",
      "name": "python3"
    },
    "language_info": {
      "codemirror_mode": {
        "name": "ipython",
        "version": 3
      },
      "file_extension": ".py",
      "mimetype": "text/x-python",
      "name": "python",
      "nbconvert_exporter": "python",
      "pygments_lexer": "ipython3",
      "version": "3.7.7"
    },
    "colab": {
      "name": "Lab2_DL_part3_poetry.ipynb",
      "provenance": []
    },
    "accelerator": "GPU"
  },
  "cells": [
    {
      "cell_type": "markdown",
      "metadata": {
        "id": "V6BF85vFRxtz"
      },
      "source": [
        "## Lab 2"
      ]
    },
    {
      "cell_type": "markdown",
      "metadata": {
        "id": "SrXVdDtBRxt6"
      },
      "source": [
        "### Part 3. Poetry generation\n",
        "\n",
        "Let's try to generate some poetry using RNNs. \n",
        "\n",
        "You have several choices here: \n",
        "\n",
        "* The Shakespeare sonnets, file `sonnets.txt` available in the notebook directory.\n",
        "\n",
        "* Роман в стихах \"Евгений Онегин\" Александра Сергеевича Пушкина. В предобработанном виде доступен по [ссылке](https://github.com/attatrol/data_sources/blob/master/onegin.txt).\n",
        "\n",
        "* Some other text source, if it will be approved by the course staff.\n",
        "\n",
        "Text generation can be designed in several steps:\n",
        "    \n",
        "1. Data loading.\n",
        "2. Dictionary generation.\n",
        "3. Data preprocessing.\n",
        "4. Model (neural network) training.\n",
        "5. Text generation (model evaluation).\n"
      ]
    },
    {
      "cell_type": "code",
      "metadata": {
        "id": "jN7x27G5Rxt7"
      },
      "source": [
        "import string\n",
        "import os\n",
        "import numpy as np"
      ],
      "execution_count": 1,
      "outputs": []
    },
    {
      "cell_type": "markdown",
      "metadata": {
        "id": "fr4rnQ6tRxt8"
      },
      "source": [
        "### Data loading: Shakespeare"
      ]
    },
    {
      "cell_type": "markdown",
      "metadata": {
        "id": "buBDL2NyRxt8"
      },
      "source": [
        "Shakespeare sonnets are awailable at this [link](http://www.gutenberg.org/ebooks/1041?msg=welcome_stranger). In addition, they are stored in the same directory as this notebook (`sonnetes.txt`). Simple preprocessing is already done for you in the next cell: all technical info is dropped."
      ]
    },
    {
      "cell_type": "code",
      "metadata": {
        "collapsed": true,
        "id": "CcflgmayRxt9",
        "colab": {
          "base_uri": "https://localhost:8080/"
        },
        "outputId": "558f4beb-f3dc-4027-d806-e241fd3d8052"
      },
      "source": [
        "if not os.path.exists('sonnets.txt'):\n",
        "    !wget https://raw.githubusercontent.com/girafe-ai/ml-mipt/master/homeworks_basic/Lab2_DL/sonnets.txt\n",
        "\n",
        "with open('sonnets.txt', 'r') as iofile:\n",
        "    text = iofile.readlines()\n",
        "    \n",
        "TEXT_START = 45\n",
        "TEXT_END = -368\n",
        "text = text[TEXT_START : TEXT_END]\n",
        "assert len(text) == 2616"
      ],
      "execution_count": 2,
      "outputs": [
        {
          "output_type": "stream",
          "text": [
            "--2021-06-13 22:49:03--  https://raw.githubusercontent.com/girafe-ai/ml-mipt/master/homeworks_basic/Lab2_DL/sonnets.txt\n",
            "Resolving raw.githubusercontent.com (raw.githubusercontent.com)... 185.199.110.133, 185.199.109.133, 185.199.111.133, ...\n",
            "Connecting to raw.githubusercontent.com (raw.githubusercontent.com)|185.199.110.133|:443... connected.\n",
            "HTTP request sent, awaiting response... 200 OK\n",
            "Length: 119748 (117K) [text/plain]\n",
            "Saving to: ‘sonnets.txt’\n",
            "\n",
            "\rsonnets.txt           0%[                    ]       0  --.-KB/s               \rsonnets.txt         100%[===================>] 116.94K  --.-KB/s    in 0.003s  \n",
            "\n",
            "2021-06-13 22:49:03 (39.7 MB/s) - ‘sonnets.txt’ saved [119748/119748]\n",
            "\n"
          ],
          "name": "stdout"
        }
      ]
    },
    {
      "cell_type": "markdown",
      "metadata": {
        "id": "8uEPH-QNRxt9"
      },
      "source": [
        "In opposite to the in-class practice, this time we want to predict complex text. Let's reduce the complexity of the task and lowercase all the symbols.\n",
        "\n",
        "Now variable `text` is a list of strings. Join all the strings into one and lowercase it."
      ]
    },
    {
      "cell_type": "code",
      "metadata": {
        "id": "ot_4oBoURxt9",
        "colab": {
          "base_uri": "https://localhost:8080/"
        },
        "outputId": "7c5a2c0b-066d-4a04-93ea-512e65b47b37"
      },
      "source": [
        "text = ''.join(text).lower()\n",
        "assert len(text) == 100225, 'Are you sure you have concatenated all the strings?'\n",
        "assert not any([x in set(text) for x in string.ascii_uppercase]), 'Uppercase letters are present'\n",
        "print('OK!')"
      ],
      "execution_count": 3,
      "outputs": [
        {
          "output_type": "stream",
          "text": [
            "OK!\n"
          ],
          "name": "stdout"
        }
      ]
    },
    {
      "cell_type": "markdown",
      "metadata": {
        "id": "2WuogzsfRxt_"
      },
      "source": [
        "In opposite to the in-class practice, this time we want to predict complex text. Let's reduce the complexity of the task and lowercase all the symbols.\n",
        "\n",
        "Now variable `text` is a list of strings. Join all the strings into one and lowercase it."
      ]
    },
    {
      "cell_type": "markdown",
      "metadata": {
        "id": "OeQyBrpsRxuA"
      },
      "source": [
        "Put all the characters, that you've seen in the text, into variable `tokens`."
      ]
    },
    {
      "cell_type": "code",
      "metadata": {
        "id": "vo1a087dRxuA"
      },
      "source": [
        "tokens = sorted(set(text))"
      ],
      "execution_count": 4,
      "outputs": []
    },
    {
      "cell_type": "markdown",
      "metadata": {
        "id": "-bL_angmRxuA"
      },
      "source": [
        "Create dictionary `token_to_idx = {<char>: <index>}` and dictionary `idx_to_token = {<index>: <char>}`"
      ]
    },
    {
      "cell_type": "code",
      "metadata": {
        "collapsed": true,
        "id": "EY8F-vSARxuB"
      },
      "source": [
        "token_to_idx = {token: idx for idx, token in enumerate(tokens)}\n",
        "idx_to_token = {idx: token for idx, token in enumerate(tokens)}\n",
        "assert len(token_to_idx) == len(idx_to_token)"
      ],
      "execution_count": 5,
      "outputs": []
    },
    {
      "cell_type": "markdown",
      "metadata": {
        "id": "oVY2Eg-PRxuB"
      },
      "source": [
        "*Comment: in this task we have only 38 different tokens, so let's use one-hot encoding.*"
      ]
    },
    {
      "cell_type": "markdown",
      "metadata": {
        "id": "7oFnai8TRxuB"
      },
      "source": [
        "### Building the model"
      ]
    },
    {
      "cell_type": "markdown",
      "metadata": {
        "id": "VHXjds6pRxuC"
      },
      "source": [
        "Now we want to build and train recurrent neural net which would be able to something similar to Shakespeare's poetry.\n",
        "\n",
        "Let's use vanilla RNN, similar to the one created during the lesson."
      ]
    },
    {
      "cell_type": "code",
      "metadata": {
        "id": "bIgS6PqbHYds"
      },
      "source": [
        "def to_matrix(pieces, max_len=None):\n",
        "  if max_len == None: \n",
        "    max_len = max(map(len, pieces))\n",
        "\n",
        "  text_ix = np.zeros((len(pieces), max_len), dtype='int32')\n",
        "  for i in range(len(pieces)): \n",
        "    line_ix = [token_to_idx[c] for c in pieces[i]]\n",
        "    text_ix[i, :len(line_ix)] = line_ix\n",
        "  return text_ix"
      ],
      "execution_count": 6,
      "outputs": []
    },
    {
      "cell_type": "code",
      "metadata": {
        "id": "NkegAyVMUJg7"
      },
      "source": [
        "import torch, torch.nn as nn\n",
        "import torch.nn.functional as F\n",
        "device = 'cuda'"
      ],
      "execution_count": 7,
      "outputs": []
    },
    {
      "cell_type": "code",
      "metadata": {
        "id": "e5NGdMn3UMyY"
      },
      "source": [
        "\n",
        "class CharRNNCell(nn.Module):\n",
        "    def __init__(self, num_tokens=len(tokens), embedding_size=16, rnn_num_units=64):\n",
        "        super(self.__class__,self).__init__()\n",
        "        self.num_units = rnn_num_units\n",
        "        self.embedding = nn.Embedding(num_tokens, embedding_size)\n",
        "        self.rnn_update = nn.Linear(embedding_size + rnn_num_units, rnn_num_units)\n",
        "        self.rnn_to_logits = nn.Linear(rnn_num_units, num_tokens)\n",
        "        \n",
        "    def forward(self, x, h_prev):\n",
        "        \"\"\"\n",
        "        This method computes h_next(x, h_prev) and log P(x_next | h_next)\n",
        "        We'll call it repeatedly to produce the whole sequence.\n",
        "        \n",
        "        :param x: batch of character ids, containing vector of int64\n",
        "        :param h_prev: previous rnn hidden states, containing matrix [batch, rnn_num_units] of float32\n",
        "        \"\"\"\n",
        "        # get vector embedding of x\n",
        "        x_emb = self.embedding(x)\n",
        "        \n",
        "        # compute next hidden state using self.rnn_update\n",
        "        # hint: use torch.cat(..., dim=...) for concatenation\n",
        "        x_and_h = torch.cat([x_emb, h_prev], dim=1)\n",
        "        h_next = self.rnn_update(x_and_h)\n",
        "        h_next = torch.tanh(h_next)\n",
        "        assert h_next.size() == h_prev.size()\n",
        "        \n",
        "        #compute logits for next character probs\n",
        "        logits = self.rnn_to_logits(h_next)\n",
        "        return h_next, F.log_softmax(logits, -1)\n",
        "    \n",
        "    def initial_state(self, batch_size):\n",
        "        \"\"\" return rnn state before it processes first input (aka h0) \"\"\"\n",
        "        return torch.zeros(batch_size, self.num_units, requires_grad=True).to(device)"
      ],
      "execution_count": 8,
      "outputs": []
    },
    {
      "cell_type": "code",
      "metadata": {
        "id": "UVTRQ5hSRpHs"
      },
      "source": [
        "def rnn_loop(char_rnn, batch_ix):\n",
        "    \"\"\"\n",
        "    Computes log P(next_character) for all time-steps in names_ix\n",
        "    :param names_ix: an int32 matrix of shape [batch, time], output of to_matrix(names)\n",
        "    \"\"\"\n",
        "    batch_size, max_length = batch_ix.size()\n",
        "    hid_state = char_rnn.initial_state(batch_size)\n",
        "    logprobs = []\n",
        "\n",
        "    for x_t in batch_ix.transpose(0,1):\n",
        "        hid_state, logp_next = char_rnn(x_t, hid_state)  # <-- here we call your one-step code\n",
        "        logprobs.append(logp_next)\n",
        "        \n",
        "    return torch.stack(logprobs, dim=1)"
      ],
      "execution_count": 9,
      "outputs": []
    },
    {
      "cell_type": "code",
      "metadata": {
        "id": "DnIyzrzGvMqi"
      },
      "source": [
        "def get_shifts(num, start=0, piece_len=100, step=1):\n",
        "  res = []\n",
        "  for i in range(num): \n",
        "    if start + piece_len >= len(text) - 1:\n",
        "      print(\"ooops\")\n",
        "      break\n",
        "    res.append(text[start:start+piece_len])\n",
        "    start += step\n",
        "  return res"
      ],
      "execution_count": 10,
      "outputs": []
    },
    {
      "cell_type": "code",
      "metadata": {
        "id": "Hv8la_TMB5dV"
      },
      "source": [
        "from IPython.display import clear_output\n",
        "import matplotlib.pyplot as plt\n",
        "from random import sample\n",
        "from tqdm import trange\n",
        "\n",
        "char_rnn = CharRNNCell().to(device)\n",
        "opt = torch.optim.Adam(char_rnn.parameters())"
      ],
      "execution_count": 16,
      "outputs": []
    },
    {
      "cell_type": "code",
      "metadata": {
        "id": "JjBbZ1OrHM-l"
      },
      "source": [
        "def training_loop(rnn, opt, epochs=30):\n",
        "  loss_history = []\n",
        "  for epoch in range(epochs):\n",
        "    loss_this_epoch = 0\n",
        "    for batch_idx in trange(NUM_BATCHES):\n",
        "      pieces = get_shifts(BATCH_SIZE, start=batch_idx * BATCH_SIZE, piece_len=MAX_LEN)\n",
        "      samples = torch.tensor(to_matrix(pieces), dtype=torch.int64).to(device)\n",
        "      batch_ix = samples[:, :-1]\n",
        "      opt.zero_grad()\n",
        "      logp_seq = rnn_loop(rnn, batch_ix)\n",
        "      actual_next_tokens = samples[:, 1:]\n",
        "      predictions_logp = logp_seq\n",
        "      logp_next = torch.gather(predictions_logp, dim=2, index=actual_next_tokens[:,:,None])\n",
        "      loss = -logp_next.mean()\n",
        "      #loss_history.append(loss.detach().cpu().numpy())\n",
        "      loss_this_epoch += loss.detach().cpu().numpy()\n",
        "      loss.backward()\n",
        "      opt.step()\n",
        "    loss_this_epoch /= NUM_BATCHES\n",
        "    print('Training epoch: {} Loss: {}'.format(epoch, loss_this_epoch))\n",
        "    loss_history.append(loss_this_epoch)\n",
        "    clear_output(True)\n",
        "    plt.plot(loss_history,label='loss')\n",
        "    plt.legend()\n",
        "    plt.show()\n",
        "\n",
        "  return loss_history"
      ],
      "execution_count": 17,
      "outputs": []
    },
    {
      "cell_type": "code",
      "metadata": {
        "id": "DRQ7xm4KIQwe"
      },
      "source": [
        "MAX_LEN = 120\n",
        "BATCH_SIZE = 200\n",
        "NUM_BATCHES = (len(text) - MAX_LEN) // BATCH_SIZE"
      ],
      "execution_count": 18,
      "outputs": []
    },
    {
      "cell_type": "code",
      "metadata": {
        "id": "u4j3Z-DTUmuq"
      },
      "source": [
        "from tqdm import tqdm\n",
        "tqdm._instances.clear()"
      ],
      "execution_count": 19,
      "outputs": []
    },
    {
      "cell_type": "code",
      "metadata": {
        "id": "swtQUBofIUcJ",
        "outputId": "f1baa0b5-b978-42a8-a735-a52cb18e8ed5",
        "colab": {
          "base_uri": "https://localhost:8080/",
          "height": 265
        }
      },
      "source": [
        "loss_history = training_loop(char_rnn, opt, 35)"
      ],
      "execution_count": 20,
      "outputs": [
        {
          "output_type": "display_data",
          "data": {
            "image/png": "[encoded data removed]",
            "text/plain": [
              "<Figure size 432x288 with 1 Axes>"
            ]
          },
          "metadata": {
            "tags": [],
            "needs_background": "light"
          }
        }
      ]
    },
    {
      "cell_type": "code",
      "metadata": {
        "id": "8SEZK4R9RxuD"
      },
      "source": [
        "MAX_LEN = 100\n",
        "def generate_sample(char_rnn, seed_phrase='hello', max_length=MAX_LEN, temperature=1.0):\n",
        "    '''\n",
        "    The function generates text given a phrase of length at least SEQ_LENGTH.\n",
        "    :param seed_phrase: prefix characters. The RNN is asked to continue the phrase\n",
        "    :param max_length: maximum output length, including seed_phrase\n",
        "    :param temperature: coefficient for sampling.  higher temperature produces more chaotic outputs, \n",
        "        smaller temperature converges to the single most likely output.\n",
        "        \n",
        "    Be careful with the model output. This model waits logits (not probabilities/log-probabilities)\n",
        "    of the next symbol.\n",
        "    '''\n",
        "    \n",
        "    x_sequence = [token_to_idx[token] for token in seed_phrase]\n",
        "    x_sequence = torch.tensor([x_sequence], dtype=torch.int64).to(device)\n",
        "    hid_state = char_rnn.initial_state(batch_size=1)\n",
        "  \n",
        "    #feed the seed phrase, if any\n",
        "    for i in range(len(seed_phrase) - 1):\n",
        "        # print(x_sequence[:, -1].shape, hid_state.shape)\n",
        "        hid_state, out = char_rnn(x_sequence[:, i], hid_state)\n",
        "  \n",
        "    #start generating\n",
        "    for _ in range(max_length - len(seed_phrase)):\n",
        "        hid_state, out = char_rnn(x_sequence[:, -1], hid_state)\n",
        "        # Be really careful here with the model output\n",
        "        p_next = F.softmax(out / temperature, dim=-1).data.cpu().numpy()[0]\n",
        "        \n",
        "        # sample next token and push it back into x_sequence\n",
        "        next_ix = np.random.choice(len(tokens), p=p_next)\n",
        "        next_ix = torch.tensor([[next_ix]], dtype=torch.int64).to(device)\n",
        "        x_sequence = torch.cat([x_sequence, next_ix], dim=1)\n",
        "        \n",
        "    return ''.join([tokens[ix] for ix in x_sequence.data.cpu().numpy()[0]])"
      ],
      "execution_count": 21,
      "outputs": []
    },
    {
      "cell_type": "code",
      "metadata": {
        "colab": {
          "base_uri": "https://localhost:8080/"
        },
        "id": "5VxrSLBIypcd",
        "outputId": "8eac236b-98f5-477b-87cc-72e316548c11"
      },
      "source": [
        "# An example of generated text.\n",
        "print(generate_sample(char_rnn, seed_phrase='love', max_length=500, temperature=0.8))"
      ],
      "execution_count": 23,
      "outputs": [
        {
          "output_type": "stream",
          "text": [
            "love?\n",
            "  for thered thy goods the from thy fair bat which all thy glory all the blow;\n",
            "  my foust i clo'd better be condast that in thy eyes as thee, see chand art a the better fall the love;\n",
            "  thee,\n",
            "  and suspeds be i all thou dost the trunkine!\n",
            "  in my bater's proud how my praaty is thy greated,\n",
            "    hour die,\n",
            "  and may, i  thine,\n",
            "  who doth lovery wilt creater's for on thy love is deswith hyous forgets have belings hath paron not heers wite!\n",
            "  on thee, to to have five heart, who all they slave f\n"
          ],
          "name": "stdout"
        }
      ]
    },
    {
      "cell_type": "markdown",
      "metadata": {
        "id": "Ux2O8g2BRxuE"
      },
      "source": [
        "### More poetic model\n",
        "\n",
        "Let's use LSTM instead of vanilla RNN and compare the results."
      ]
    },
    {
      "cell_type": "markdown",
      "metadata": {
        "id": "EgsuFT0ZRxuE"
      },
      "source": [
        "Plot the loss function of the number of epochs. Does the final loss become better?"
      ]
    },
    {
      "cell_type": "code",
      "metadata": {
        "id": "xfhphNOzrYPM"
      },
      "source": [
        "device = 'cuda'"
      ],
      "execution_count": 24,
      "outputs": []
    },
    {
      "cell_type": "code",
      "metadata": {
        "collapsed": true,
        "id": "sOYIo1LpRxuF"
      },
      "source": [
        "class LSTMCell(nn.Module):\n",
        "    def __init__(self, num_tokens=len(tokens), embedding_size=16, rnn_num_units=64):\n",
        "        super(self.__class__,self).__init__()\n",
        "        self.num_units = rnn_num_units\n",
        "        self.embedding = nn.Embedding(num_tokens, embedding_size)\n",
        "        self.rnn_update = nn.LSTMCell(embedding_size, rnn_num_units)\n",
        "        self.rnn_to_logits = nn.Linear(rnn_num_units, num_tokens)\n",
        "        \n",
        "    def forward(self, x, h_prev):\n",
        "        \"\"\"\n",
        "        This method computes h_next(x, h_prev) and log P(x_next | h_next)\n",
        "        We'll call it repeatedly to produce the whole sequence.\n",
        "        \n",
        "        :param x: batch of character ids, containing vector of int64\n",
        "        :param h_prev: previous rnn hidden states, containing matrix [batch, rnn_num_units] of float32\n",
        "        \"\"\"\n",
        "        # get vector embedding of x\n",
        "        x_emb = self.embedding(x)\n",
        "        \n",
        "        # compute next hidden state using self.rnn_update\n",
        "        # hint: use torch.cat(..., dim=...) for concatenation\n",
        "        h_next = self.rnn_update(x_emb, h_prev)\n",
        "        \n",
        "        #compute logits for next character probs\n",
        "        logits = self.rnn_to_logits(h_next[0])\n",
        "        return h_next, F.log_softmax(logits, -1)\n",
        "    \n",
        "    def initial_state(self, batch_size):\n",
        "        \"\"\" return rnn state before it processes first input (aka h0) \"\"\"\n",
        "        return [torch.zeros(batch_size, self.num_units, requires_grad=True).to(device) for i in range(2)]"
      ],
      "execution_count": 25,
      "outputs": []
    },
    {
      "cell_type": "code",
      "metadata": {
        "id": "yBjPJoETsidn"
      },
      "source": [
        "lstm_rnn = LSTMCell().to(device)\n",
        "lstm_opt = torch.optim.Adam(lstm_rnn.parameters())"
      ],
      "execution_count": 26,
      "outputs": []
    },
    {
      "cell_type": "code",
      "metadata": {
        "id": "lja1JtmdLwEZ",
        "outputId": "d8925257-a964-4d0d-a6c6-70193f58f28f",
        "colab": {
          "base_uri": "https://localhost:8080/",
          "height": 265
        }
      },
      "source": [
        "loss_history_lstm = training_loop(lstm_rnn, lstm_opt, 35)"
      ],
      "execution_count": 28,
      "outputs": [
        {
          "output_type": "display_data",
          "data": {
            "image/png": "[encoded data removed]",
            "text/plain": [
              "<Figure size 432x288 with 1 Axes>"
            ]
          },
          "metadata": {
            "tags": [],
            "needs_background": "light"
          }
        }
      ]
    },
    {
      "cell_type": "code",
      "metadata": {
        "colab": {
          "base_uri": "https://localhost:8080/"
        },
        "id": "Wo7cN2RTxZst",
        "outputId": "aad3a895-f7d6-4eb6-df3c-8a9a542a26d0"
      },
      "source": [
        "print(generate_sample(lstm_rnn, seed_phrase='love', max_length=500, temperature=1))"
      ],
      "execution_count": 36,
      "outputs": [
        {
          "output_type": "stream",
          "text": [
            "love she tencack\n",
            "  the suration it, when do me their ginst make agatt is is ronebuless,\n",
            "  fith your polowing just on my as false sways,-sman to is all:\n",
            "    and foul fairs did forget to tweep, this to bespoin's end\n",
            "  whereight swarly fool mor'trow thee, me,\n",
            "  since should now which is holcods thee mose,--:\n",
            "  my vandest to i and hollel your hipps alavel\n",
            "  a joy took same as hor, be thy showing mack,\n",
            "  not the love reath make my love not so that eye;\n",
            "  for this see hath withanty shorken by deteraca\n"
          ],
          "name": "stdout"
        }
      ]
    },
    {
      "cell_type": "markdown",
      "metadata": {
        "id": "hB5N4XySRxuF"
      },
      "source": [
        "Generate text using the trained net with different `temperature` parameter: `[0.1, 0.2, 0.5, 1.0, 2.0]`.\n",
        "\n",
        "Evaluate the results visually, try to interpret them."
      ]
    },
    {
      "cell_type": "code",
      "metadata": {
        "collapsed": true,
        "id": "TvhmEY6nRxuG",
        "colab": {
          "base_uri": "https://localhost:8080/"
        },
        "outputId": "77940854-0f77-4072-a923-7365c6a59423"
      },
      "source": [
        "print(\"\\n***\\n\")\n",
        "print(generate_sample(lstm_rnn, seed_phrase='love', max_length=500, temperature=0.1))\n",
        "print(\"\\n***\\n\")\n",
        "print(generate_sample(lstm_rnn, seed_phrase='love', max_length=500, temperature=0.2))\n",
        "print(\"\\n***\\n\")\n",
        "print(generate_sample(lstm_rnn, seed_phrase='love', max_length=500, temperature=0.5))\n",
        "print(\"\\n***\\n\")\n",
        "print(generate_sample(lstm_rnn, seed_phrase='love', max_length=500, temperature=1))\n",
        "print(\"\\n***\\n\")\n",
        "print(generate_sample(lstm_rnn, seed_phrase='love', max_length=500, temperature=2))"
      ],
      "execution_count": 43,
      "outputs": [
        {
          "output_type": "stream",
          "text": [
            "\n",
            "***\n",
            "\n",
            "love thee the strange thee thee thee the strange thee thee thee to thee,\n",
            "  the world thee the world thee thee the confound thee thee,\n",
            "    then the world that the world thee the sunself the world thee i am my self thee the strange thee thee i do my self thee thee to thee thee thee,\n",
            "    and the world the world thee the world that thee the from thee thee to thee.\n",
            "\n",
            "  cxlvii\n",
            "\n",
            "  that the world that the world the world that thee thee in thee,\n",
            "    then the worth the world thee the suns to thee the compo\n",
            "\n",
            "***\n",
            "\n",
            "love thee thee and the world thee the dear thee for thee to thee prove.\n",
            "    then the suns thou shall i am not the spends with thee the proud thee of my seed\n",
            "  the proud thou thee the belove thee to thee the bears thee proud the from heart,\n",
            "    then i and the world thou thee the worth my self and thee to thee,\n",
            "    that i and i sweet thou thee for thee thee me the strange thee the state.\n",
            "  the contenties thee i do my sour'd to thee to be the confounds,\n",
            "  and the worth i am the mayst thee for thee \n",
            "\n",
            "***\n",
            "\n",
            "love make in the strange are for thee comphate:\n",
            "    then the better thy more my sorrouth the seen'd and the greas,\n",
            "  my happay hate my beauty before,\n",
            "  which have that they badough thy praise of my spent thou doth griend.\n",
            "\n",
            "  cxlii\n",
            "\n",
            "  i not from heaven that part thy wearth compure or swornough with woes,\n",
            "  that thee the proud the say thy love to dead,\n",
            "  all things of the growns thou make me art be art,\n",
            "  the be a that i have he be to me, the belies my prove:\n",
            "    then me be the shound the true far\n",
            "\n",
            "***\n",
            "\n",
            "love inden's\n",
            "  in thee houchse that my nor mend;\n",
            "  so new! two my proked upbing, is and that in,\n",
            "  the uruse with hath up thou prown, alls dote me not,\n",
            "    not by that of this rade i long life,\n",
            "  which their bettione what fals can loves of thee won excuse,\n",
            "    ow love for by love un i inginds from hathe.\n",
            "  when never a main, that to storns to to the grace.\n",
            "  which plowast, my life and the rust-lose\n",
            "  what with will is strowni'l knows,\n",
            "  wheres freshers' despends i she kind noth com me stan.\n",
            "    \n",
            "\n",
            "***\n",
            "\n",
            "loves lamc'l,-not crong;\n",
            " n flair dembyl-istemusaband!r nore.'\n",
            "  vils; uir greet rnaw;-kill find\n",
            "  can\n",
            "; im dut o'a' spor nngienals motut;\n",
            "  staid larsesn thengrio'' dagk,\n",
            "  so!lbint, o! uprof frow' witirts crejuely;\n",
            "   inlisha hip-swriil, i,s thaisnsguan abosn\n",
            "  bedy 'trivet!\n",
            "  crnight-ngeng is urfugixbul'd-rhalr, andoigh,mins cadilcpentical,\n",
            "  ureby dewe\n",
            "  telf madmfivy', tgotooy-)orr? the sgandhhnfing, ortaavienctp'chanys-stwat;\n",
            "- loskint dening'd, am to agach-lracle'd,\n",
            "  cake ancu: 'fiam i j\n"
          ],
          "name": "stdout"
        }
      ]
    },
    {
      "cell_type": "markdown",
      "metadata": {
        "id": "b_coTrTet6bl"
      },
      "source": [
        "We can see that on low temperature (like 0.1) the net often repeats the same words (probably the most frequent) so the generated text mostly consists of \"thee\" and \"the world\". Not much fun, actually. \n",
        "\n",
        "On 0.2 the situation is pretty similar, but there are more different words appearing, lines are usually shorter (that's good). \n",
        "\n",
        "0.5 is nice, no weird repetitions and most of the words are real. It still does not make any sense, but that's not what we're here for.\n",
        "\n",
        "1.0 is my fav here! Beautiful structure, lots of punctuation, some grammatically correct pieces can be found.\n",
        "\n",
        "On 2.0 the net goes crazy and just messes everything up. No meaningful or at least readable words, punctuation everywhere."
      ]
    },
    {
      "cell_type": "markdown",
      "metadata": {
        "id": "aPL14oaVRxuG"
      },
      "source": [
        "### Saving and loading models"
      ]
    },
    {
      "cell_type": "markdown",
      "metadata": {
        "id": "Zh544JDnRxuH"
      },
      "source": [
        "Save the model to the disk, then load it and generate text. Examples are available [here](https://pytorch.org/tutorials/beginner/saving_loading_models.html])."
      ]
    },
    {
      "cell_type": "code",
      "metadata": {
        "collapsed": true,
        "id": "Ha3Gzh5ERxuH"
      },
      "source": [
        "torch.save(lstm_rnn, 'model')"
      ],
      "execution_count": 45,
      "outputs": []
    },
    {
      "cell_type": "code",
      "metadata": {
        "id": "6l_imalBx-iH"
      },
      "source": [
        "loaded = torch.load('model')"
      ],
      "execution_count": 47,
      "outputs": []
    },
    {
      "cell_type": "code",
      "metadata": {
        "id": "pK-RhmzVyD1-",
        "outputId": "917b1041-f095-4119-b8ce-88a4c426a8a2",
        "colab": {
          "base_uri": "https://localhost:8080/"
        }
      },
      "source": [
        "print(generate_sample(loaded, seed_phrase='love', max_length=500, temperature=0.8))"
      ],
      "execution_count": 49,
      "outputs": [
        {
          "output_type": "stream",
          "text": [
            "love in a so,\n",
            "    and him i not the alone with to this most love and bland?\n",
            "  he me, and take is thans is fair for-timmer sane eye which is will hand self!\n",
            "  the being for musen my be uncelf power a from thee am bring.\n",
            "  for thou not to thy which i he othit i chadon's.\n",
            "  my preftords to thy rose; that puring end:\n",
            "    for that turn this i do uplook hand to art,\n",
            "  each truth that were thy floveress'd there so thou grate\n",
            "  my change i wold that with your peatter'd a deserous,\n",
            "  then wastrel hath th\n"
          ],
          "name": "stdout"
        }
      ]
    },
    {
      "cell_type": "markdown",
      "metadata": {
        "id": "JFoG23j4RxuH"
      },
      "source": [
        "### References\n",
        "1. <a href='http://karpathy.github.io/2015/05/21/rnn-effectiveness/'> Andrew Karpathy blog post about RNN. </a> \n",
        "There are several examples of genration: Shakespeare texts, Latex formulas, Linux Sourse Code and children names.\n",
        "2. <a href='https://github.com/karpathy/char-rnn'> Repo with char-rnn code </a>\n",
        "3. Cool repo with PyTorch examples: [link](https://github.com/spro/practical-pytorch`)"
      ]
    }
  ]
}