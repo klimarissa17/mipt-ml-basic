{
  "nbformat": 4,
  "nbformat_minor": 0,
  "metadata": {
    "accelerator": "GPU",
    "colab": {
      "name": "Overfit it.ipynb",
      "provenance": [],
      "collapsed_sections": []
    },
    "kernelspec": {
      "display_name": "Python 3",
      "language": "python",
      "name": "python3"
    },
    "language_info": {
      "codemirror_mode": {
        "name": "ipython",
        "version": 3
      },
      "file_extension": ".py",
      "mimetype": "text/x-python",
      "name": "python",
      "nbconvert_exporter": "python",
      "pygments_lexer": "ipython3",
      "version": "3.7.7"
    }
  },
  "cells": [
    {
      "cell_type": "markdown",
      "metadata": {
        "id": "NFmOh482SyEF"
      },
      "source": [
        "## Lab 2\n",
        "### Part 2: Dealing with overfitting"
      ]
    },
    {
      "cell_type": "markdown",
      "metadata": {
        "id": "AjzAuO3oSvsI"
      },
      "source": [
        "Today we work with [Fashion-MNIST dataset](https://github.com/zalandoresearch/fashion-mnist) (*hint: it is available in `torchvision`*).\n",
        "\n",
        "Your goal for today:\n",
        "1. Train a FC (fully-connected) network that achieves >= 0.885 test accuracy.\n",
        "2. Cause considerable overfitting by modifying the network (e.g. increasing the number of network parameters and/or layers) and demonstrate in in the appropriate way (e.g. plot loss and accurasy on train and validation set w.r.t. network complexity).\n",
        "3. Try to deal with overfitting (at least partially) by using regularization techniques (Dropout/Batchnorm/...) and demonstrate the results.\n",
        "\n",
        "__Please, write a small report describing your ideas, tries and achieved results in the end of this file.__\n",
        "\n",
        "*Note*: Tasks 2 and 3 are interrelated, in task 3 your goal is to make the network from task 2 less prone to overfitting. Task 1 is independent from 2 and 3.\n",
        "\n",
        "*Note 2*: We recomment to use Google Colab or other machine with GPU acceleration."
      ]
    },
    {
      "cell_type": "code",
      "metadata": {
        "id": "_KBld6VOSwhW"
      },
      "source": [
        "import torch\n",
        "import torch.nn as nn\n",
        "import torchvision\n",
        "import torchvision.transforms as transforms\n",
        "import torchsummary\n",
        "from IPython.display import clear_output\n",
        "from matplotlib import pyplot as plt\n",
        "from matplotlib.pyplot import figure\n",
        "import numpy as np\n",
        "import os\n",
        "\n",
        "\n",
        "device = 'cuda:0' if torch.cuda.is_available() else 'cpu'"
      ],
      "execution_count": 1,
      "outputs": []
    },
    {
      "cell_type": "code",
      "metadata": {
        "colab": {
          "base_uri": "https://localhost:8080/"
        },
        "id": "EdLOG0XqS_g5",
        "outputId": "fd25393b-23b2-42b3-f636-8ece5a023964"
      },
      "source": [
        "# Technical function\n",
        "def mkdir(path):\n",
        "    if not os.path.exists(root_path):\n",
        "        os.mkdir(root_path)\n",
        "        print('Directory', path, 'is created!')\n",
        "    else:\n",
        "        print('Directory', path, 'already exists!')\n",
        "        \n",
        "root_path = 'fmnist'\n",
        "mkdir(root_path)"
      ],
      "execution_count": 2,
      "outputs": [
        {
          "output_type": "stream",
          "text": [
            "Directory fmnist already exists!\n"
          ],
          "name": "stdout"
        }
      ]
    },
    {
      "cell_type": "code",
      "metadata": {
        "id": "qt6LE7XaTDT9"
      },
      "source": [
        "download = True\n",
        "train_transform = transforms.ToTensor()\n",
        "test_transform = transforms.ToTensor()\n",
        "transforms.Compose((transforms.ToTensor()))\n",
        "\n",
        "\n",
        "fmnist_dataset_train = torchvision.datasets.FashionMNIST(root_path, \n",
        "                                                        train=True, \n",
        "                                                        transform=train_transform,\n",
        "                                                        target_transform=None,\n",
        "                                                        download=download)\n",
        "fmnist_dataset_test = torchvision.datasets.FashionMNIST(root_path, \n",
        "                                                       train=False, \n",
        "                                                       transform=test_transform,\n",
        "                                                       target_transform=None,\n",
        "                                                       download=download)"
      ],
      "execution_count": 3,
      "outputs": []
    },
    {
      "cell_type": "code",
      "metadata": {
        "id": "71YP0SPwTIxD"
      },
      "source": [
        "train_loader = torch.utils.data.DataLoader(fmnist_dataset_train, \n",
        "                                           batch_size=128,\n",
        "                                           shuffle=True,\n",
        "                                           num_workers=2)\n",
        "test_loader = torch.utils.data.DataLoader(fmnist_dataset_test,\n",
        "                                          batch_size=256,\n",
        "                                          shuffle=False,\n",
        "                                          num_workers=2)"
      ],
      "execution_count": 4,
      "outputs": []
    },
    {
      "cell_type": "code",
      "metadata": {
        "colab": {
          "base_uri": "https://localhost:8080/"
        },
        "id": "v_YFmF7NTWrQ",
        "outputId": "dac82283-20af-4795-9f22-bdce97906458"
      },
      "source": [
        "len(fmnist_dataset_test)"
      ],
      "execution_count": 5,
      "outputs": [
        {
          "output_type": "execute_result",
          "data": {
            "text/plain": [
              "10000"
            ]
          },
          "metadata": {
            "tags": []
          },
          "execution_count": 5
        }
      ]
    },
    {
      "cell_type": "code",
      "metadata": {
        "colab": {
          "base_uri": "https://localhost:8080/"
        },
        "id": "aHca15bOTY4B",
        "outputId": "2c9d39f9-f2ae-499b-c763-e9598f78f282"
      },
      "source": [
        "for img, label in train_loader:\n",
        "    print(img.shape)\n",
        "#     print(img)\n",
        "    print(label.shape)\n",
        "    print(label.size(0))\n",
        "    break"
      ],
      "execution_count": 6,
      "outputs": [
        {
          "output_type": "stream",
          "text": [
            "torch.Size([128, 1, 28, 28])\n",
            "torch.Size([128])\n",
            "128\n"
          ],
          "name": "stdout"
        }
      ]
    },
    {
      "cell_type": "markdown",
      "metadata": {
        "id": "b6OOOffHTfX5"
      },
      "source": [
        "### Task 1\n",
        "Train a network that achieves $\\geq 0.885$ test accuracy. It's fine to use only Linear (`nn.Linear`) layers and activations/dropout/batchnorm. Convolutional layers might be a great use, but we will meet them a bit later."
      ]
    },
    {
      "cell_type": "code",
      "metadata": {
        "id": "ftpkTjxlTcFx"
      },
      "source": [
        "class TinyNeuralNetwork(nn.Module):\n",
        "    def __init__(self, input_shape=28*28, num_classes=10, input_channels=1):\n",
        "        super(self.__class__, self).__init__()\n",
        "        some_const = 600\n",
        "        self.model = nn.Sequential(\n",
        "            nn.Flatten(), # This layer converts image into a vector to use Linear layers afterwards\n",
        "            # Your network structure comes here\n",
        "            nn.Linear(input_shape, some_const),\n",
        "            nn.LeakyReLU(),\n",
        "            nn.Linear(some_const, some_const),\n",
        "            nn.LeakyReLU(),\n",
        "            nn.Linear(some_const, num_classes)\n",
        "        )\n",
        "        \n",
        "    def forward(self, inp):       \n",
        "        return self.model(inp)"
      ],
      "execution_count": 10,
      "outputs": []
    },
    {
      "cell_type": "code",
      "metadata": {
        "colab": {
          "base_uri": "https://localhost:8080/"
        },
        "id": "-WmJp44uMvSh",
        "outputId": "73e2023d-3a1b-4941-c704-a4dbbeb24531"
      },
      "source": [
        "torchsummary.summary(TinyNeuralNetwork().to(device), (28*28,))"
      ],
      "execution_count": 11,
      "outputs": [
        {
          "output_type": "stream",
          "text": [
            "----------------------------------------------------------------\n",
            "        Layer (type)               Output Shape         Param #\n",
            "================================================================\n",
            "           Flatten-1                  [-1, 784]               0\n",
            "            Linear-2                  [-1, 600]         471,000\n",
            "         LeakyReLU-3                  [-1, 600]               0\n",
            "            Linear-4                  [-1, 600]         360,600\n",
            "         LeakyReLU-5                  [-1, 600]               0\n",
            "            Linear-6                   [-1, 10]           6,010\n",
            "================================================================\n",
            "Total params: 837,610\n",
            "Trainable params: 837,610\n",
            "Non-trainable params: 0\n",
            "----------------------------------------------------------------\n",
            "Input size (MB): 0.00\n",
            "Forward/backward pass size (MB): 0.02\n",
            "Params size (MB): 3.20\n",
            "Estimated Total Size (MB): 3.22\n",
            "----------------------------------------------------------------\n"
          ],
          "name": "stdout"
        }
      ]
    },
    {
      "cell_type": "markdown",
      "metadata": {
        "id": "544PGKEnjPr5"
      },
      "source": [
        "Your experiments come here:"
      ]
    },
    {
      "cell_type": "code",
      "metadata": {
        "colab": {
          "base_uri": "https://localhost:8080/"
        },
        "id": "i3POFj90Ti-6",
        "outputId": "ec9e590f-81c1-412b-ff09-e9bfd782cb28"
      },
      "source": [
        "model = TinyNeuralNetwork().to(device)\n",
        "learning_rate = 1e-2\n",
        "opt = torch.optim.SGD(model.parameters(), lr=learning_rate, momentum=0.9)\n",
        "\n",
        "loss_func = nn.CrossEntropyLoss()\n",
        "\n",
        "# Your experiments, training and validation loops here\n",
        "epochs = 30\n",
        "log_interval=100\n",
        "training_accuracy = 0\n",
        "loss_history = []\n",
        "\n",
        "for epoch in range(epochs):\n",
        "  for batch_idx, (data, target) in enumerate(train_loader):\n",
        "    data = data.to(device)\n",
        "    target = target.to(device)\n",
        "    opt.zero_grad()\n",
        "    model_out = model(data)\n",
        "    model_out = model_out.to(device)\n",
        "    training_accuracy += (torch.eq(target, torch.argmax(model_out, -1)).float().mean())\n",
        "    loss = loss_func(model_out, target)\n",
        "    loss.backward()\n",
        "    opt.step()\n",
        "    loss_history.append(loss)\n",
        "    if batch_idx % log_interval == 0:\n",
        "      print('Train Epoch: {} [{}/{} ({:.0f}%)]tLoss: {:.6f}'.format(\n",
        "                   epoch, batch_idx * len(data), len(train_loader.dataset),\n",
        "                          100. * batch_idx / len(train_loader), loss.data))\n",
        "  training_accuracy = training_accuracy / batch_idx\n",
        "  print('Training accuracy: ' + str(float(training_accuracy)))\n",
        "  training_accuracy = 0"
      ],
      "execution_count": 227,
      "outputs": [
        {
          "output_type": "stream",
          "text": [
            "Train Epoch: 0 [0/60000 (0%)]tLoss: 2.304928\n",
            "Train Epoch: 0 [12800/60000 (21%)]tLoss: 0.829628\n",
            "Train Epoch: 0 [25600/60000 (43%)]tLoss: 0.760935\n",
            "Train Epoch: 0 [38400/60000 (64%)]tLoss: 0.613395\n",
            "Train Epoch: 0 [51200/60000 (85%)]tLoss: 0.459715\n",
            "Training accuracy: 0.7105202078819275\n",
            "Train Epoch: 1 [0/60000 (0%)]tLoss: 0.488095\n",
            "Train Epoch: 1 [12800/60000 (21%)]tLoss: 0.448559\n",
            "Train Epoch: 1 [25600/60000 (43%)]tLoss: 0.532792\n",
            "Train Epoch: 1 [38400/60000 (64%)]tLoss: 0.407067\n",
            "Train Epoch: 1 [51200/60000 (85%)]tLoss: 0.442647\n",
            "Training accuracy: 0.8303285837173462\n",
            "Train Epoch: 2 [0/60000 (0%)]tLoss: 0.364808\n",
            "Train Epoch: 2 [12800/60000 (21%)]tLoss: 0.409744\n",
            "Train Epoch: 2 [25600/60000 (43%)]tLoss: 0.552709\n",
            "Train Epoch: 2 [38400/60000 (64%)]tLoss: 0.406365\n",
            "Train Epoch: 2 [51200/60000 (85%)]tLoss: 0.374583\n",
            "Training accuracy: 0.8505163788795471\n",
            "Train Epoch: 3 [0/60000 (0%)]tLoss: 0.309542\n",
            "Train Epoch: 3 [12800/60000 (21%)]tLoss: 0.371626\n",
            "Train Epoch: 3 [25600/60000 (43%)]tLoss: 0.465768\n",
            "Train Epoch: 3 [38400/60000 (64%)]tLoss: 0.439649\n",
            "Train Epoch: 3 [51200/60000 (85%)]tLoss: 0.436626\n",
            "Training accuracy: 0.8605157136917114\n",
            "Train Epoch: 4 [0/60000 (0%)]tLoss: 0.283486\n",
            "Train Epoch: 4 [12800/60000 (21%)]tLoss: 0.425061\n",
            "Train Epoch: 4 [25600/60000 (43%)]tLoss: 0.262443\n",
            "Train Epoch: 4 [38400/60000 (64%)]tLoss: 0.303639\n",
            "Train Epoch: 4 [51200/60000 (85%)]tLoss: 0.476399\n",
            "Training accuracy: 0.8696414828300476\n",
            "Train Epoch: 5 [0/60000 (0%)]tLoss: 0.519686\n",
            "Train Epoch: 5 [12800/60000 (21%)]tLoss: 0.424139\n",
            "Train Epoch: 5 [25600/60000 (43%)]tLoss: 0.395666\n",
            "Train Epoch: 5 [38400/60000 (64%)]tLoss: 0.305197\n",
            "Train Epoch: 5 [51200/60000 (85%)]tLoss: 0.461759\n",
            "Training accuracy: 0.8748887181282043\n",
            "Train Epoch: 6 [0/60000 (0%)]tLoss: 0.189315\n",
            "Train Epoch: 6 [12800/60000 (21%)]tLoss: 0.369811\n",
            "Train Epoch: 6 [25600/60000 (43%)]tLoss: 0.300281\n",
            "Train Epoch: 6 [38400/60000 (64%)]tLoss: 0.306828\n",
            "Train Epoch: 6 [51200/60000 (85%)]tLoss: 0.242999\n",
            "Training accuracy: 0.8811988234519958\n",
            "Train Epoch: 7 [0/60000 (0%)]tLoss: 0.418205\n",
            "Train Epoch: 7 [12800/60000 (21%)]tLoss: 0.307130\n",
            "Train Epoch: 7 [25600/60000 (43%)]tLoss: 0.276536\n",
            "Train Epoch: 7 [38400/60000 (64%)]tLoss: 0.332279\n",
            "Train Epoch: 7 [51200/60000 (85%)]tLoss: 0.306122\n",
            "Training accuracy: 0.8846877217292786\n",
            "Train Epoch: 8 [0/60000 (0%)]tLoss: 0.262301\n",
            "Train Epoch: 8 [12800/60000 (21%)]tLoss: 0.322488\n",
            "Train Epoch: 8 [25600/60000 (43%)]tLoss: 0.369398\n",
            "Train Epoch: 8 [38400/60000 (64%)]tLoss: 0.291099\n",
            "Train Epoch: 8 [51200/60000 (85%)]tLoss: 0.277010\n",
            "Training accuracy: 0.8875534534454346\n",
            "Train Epoch: 9 [0/60000 (0%)]tLoss: 0.427894\n",
            "Train Epoch: 9 [12800/60000 (21%)]tLoss: 0.252940\n",
            "Train Epoch: 9 [25600/60000 (43%)]tLoss: 0.316415\n",
            "Train Epoch: 9 [38400/60000 (64%)]tLoss: 0.329471\n",
            "Train Epoch: 9 [51200/60000 (85%)]tLoss: 0.229912\n",
            "Training accuracy: 0.8925169110298157\n",
            "Train Epoch: 10 [0/60000 (0%)]tLoss: 0.218737\n",
            "Train Epoch: 10 [12800/60000 (21%)]tLoss: 0.290582\n",
            "Train Epoch: 10 [25600/60000 (43%)]tLoss: 0.263616\n",
            "Train Epoch: 10 [38400/60000 (64%)]tLoss: 0.196623\n",
            "Train Epoch: 10 [51200/60000 (85%)]tLoss: 0.242028\n",
            "Training accuracy: 0.8958834409713745\n",
            "Train Epoch: 11 [0/60000 (0%)]tLoss: 0.170621\n",
            "Train Epoch: 11 [12800/60000 (21%)]tLoss: 0.242563\n",
            "Train Epoch: 11 [25600/60000 (43%)]tLoss: 0.519086\n",
            "Train Epoch: 11 [38400/60000 (64%)]tLoss: 0.210465\n",
            "Train Epoch: 11 [51200/60000 (85%)]tLoss: 0.398017\n",
            "Training accuracy: 0.898298442363739\n",
            "Train Epoch: 12 [0/60000 (0%)]tLoss: 0.424597\n",
            "Train Epoch: 12 [12800/60000 (21%)]tLoss: 0.444841\n",
            "Train Epoch: 12 [25600/60000 (43%)]tLoss: 0.246854\n",
            "Train Epoch: 12 [38400/60000 (64%)]tLoss: 0.324942\n",
            "Train Epoch: 12 [51200/60000 (85%)]tLoss: 0.434457\n",
            "Training accuracy: 0.9002737998962402\n",
            "Train Epoch: 13 [0/60000 (0%)]tLoss: 0.255729\n",
            "Train Epoch: 13 [12800/60000 (21%)]tLoss: 0.220103\n",
            "Train Epoch: 13 [25600/60000 (43%)]tLoss: 0.287208\n",
            "Train Epoch: 13 [38400/60000 (64%)]tLoss: 0.353299\n",
            "Train Epoch: 13 [51200/60000 (85%)]tLoss: 0.242660\n",
            "Training accuracy: 0.9030671715736389\n",
            "Train Epoch: 14 [0/60000 (0%)]tLoss: 0.297962\n",
            "Train Epoch: 14 [12800/60000 (21%)]tLoss: 0.208051\n",
            "Train Epoch: 14 [25600/60000 (43%)]tLoss: 0.267200\n",
            "Train Epoch: 14 [38400/60000 (64%)]tLoss: 0.149895\n",
            "Train Epoch: 14 [51200/60000 (85%)]tLoss: 0.290487\n",
            "Training accuracy: 0.9064058065414429\n",
            "Train Epoch: 15 [0/60000 (0%)]tLoss: 0.232425\n",
            "Train Epoch: 15 [12800/60000 (21%)]tLoss: 0.327125\n",
            "Train Epoch: 15 [25600/60000 (43%)]tLoss: 0.297324\n",
            "Train Epoch: 15 [38400/60000 (64%)]tLoss: 0.226058\n",
            "Train Epoch: 15 [51200/60000 (85%)]tLoss: 0.351254\n",
            "Training accuracy: 0.9071292281150818\n",
            "Train Epoch: 16 [0/60000 (0%)]tLoss: 0.263469\n",
            "Train Epoch: 16 [12800/60000 (21%)]tLoss: 0.209594\n",
            "Train Epoch: 16 [25600/60000 (43%)]tLoss: 0.147390\n",
            "Train Epoch: 16 [38400/60000 (64%)]tLoss: 0.149868\n",
            "Train Epoch: 16 [51200/60000 (85%)]tLoss: 0.138962\n",
            "Training accuracy: 0.910373330116272\n",
            "Train Epoch: 17 [0/60000 (0%)]tLoss: 0.200335\n",
            "Train Epoch: 17 [12800/60000 (21%)]tLoss: 0.230884\n",
            "Train Epoch: 17 [25600/60000 (43%)]tLoss: 0.217678\n",
            "Train Epoch: 17 [38400/60000 (64%)]tLoss: 0.201794\n",
            "Train Epoch: 17 [51200/60000 (85%)]tLoss: 0.167763\n",
            "Training accuracy: 0.9130498170852661\n",
            "Train Epoch: 18 [0/60000 (0%)]tLoss: 0.303713\n",
            "Train Epoch: 18 [12800/60000 (21%)]tLoss: 0.265083\n",
            "Train Epoch: 18 [25600/60000 (43%)]tLoss: 0.204555\n",
            "Train Epoch: 18 [38400/60000 (64%)]tLoss: 0.267287\n",
            "Train Epoch: 18 [51200/60000 (85%)]tLoss: 0.256702\n",
            "Training accuracy: 0.9154536128044128\n",
            "Train Epoch: 19 [0/60000 (0%)]tLoss: 0.194423\n",
            "Train Epoch: 19 [12800/60000 (21%)]tLoss: 0.252366\n",
            "Train Epoch: 19 [25600/60000 (43%)]tLoss: 0.250753\n",
            "Train Epoch: 19 [38400/60000 (64%)]tLoss: 0.263071\n",
            "Train Epoch: 19 [51200/60000 (85%)]tLoss: 0.247347\n",
            "Training accuracy: 0.9174624681472778\n",
            "Train Epoch: 20 [0/60000 (0%)]tLoss: 0.207922\n",
            "Train Epoch: 20 [12800/60000 (21%)]tLoss: 0.241505\n",
            "Train Epoch: 20 [25600/60000 (43%)]tLoss: 0.342518\n",
            "Train Epoch: 20 [38400/60000 (64%)]tLoss: 0.206963\n",
            "Train Epoch: 20 [51200/60000 (85%)]tLoss: 0.220099\n",
            "Training accuracy: 0.9177851676940918\n",
            "Train Epoch: 21 [0/60000 (0%)]tLoss: 0.157058\n",
            "Train Epoch: 21 [12800/60000 (21%)]tLoss: 0.198704\n",
            "Train Epoch: 21 [25600/60000 (43%)]tLoss: 0.157919\n",
            "Train Epoch: 21 [38400/60000 (64%)]tLoss: 0.187671\n",
            "Train Epoch: 21 [51200/60000 (85%)]tLoss: 0.201144\n",
            "Training accuracy: 0.920300304889679\n",
            "Train Epoch: 22 [0/60000 (0%)]tLoss: 0.184828\n",
            "Train Epoch: 22 [12800/60000 (21%)]tLoss: 0.195525\n",
            "Train Epoch: 22 [25600/60000 (43%)]tLoss: 0.189422\n",
            "Train Epoch: 22 [38400/60000 (64%)]tLoss: 0.172361\n",
            "Train Epoch: 22 [51200/60000 (85%)]tLoss: 0.232867\n",
            "Training accuracy: 0.9222367405891418\n",
            "Train Epoch: 23 [0/60000 (0%)]tLoss: 0.257791\n",
            "Train Epoch: 23 [12800/60000 (21%)]tLoss: 0.229083\n",
            "Train Epoch: 23 [25600/60000 (43%)]tLoss: 0.170748\n",
            "Train Epoch: 23 [38400/60000 (64%)]tLoss: 0.283944\n",
            "Train Epoch: 23 [51200/60000 (85%)]tLoss: 0.196822\n",
            "Training accuracy: 0.9232494235038757\n",
            "Train Epoch: 24 [0/60000 (0%)]tLoss: 0.219141\n",
            "Train Epoch: 24 [12800/60000 (21%)]tLoss: 0.274298\n",
            "Train Epoch: 24 [25600/60000 (43%)]tLoss: 0.248856\n",
            "Train Epoch: 24 [38400/60000 (64%)]tLoss: 0.128010\n",
            "Train Epoch: 24 [51200/60000 (85%)]tLoss: 0.246450\n",
            "Training accuracy: 0.9245237708091736\n",
            "Train Epoch: 25 [0/60000 (0%)]tLoss: 0.171172\n",
            "Train Epoch: 25 [12800/60000 (21%)]tLoss: 0.225710\n",
            "Train Epoch: 25 [25600/60000 (43%)]tLoss: 0.240374\n",
            "Train Epoch: 25 [38400/60000 (64%)]tLoss: 0.224294\n",
            "Train Epoch: 25 [51200/60000 (85%)]tLoss: 0.295376\n",
            "Training accuracy: 0.9270778298377991\n",
            "Train Epoch: 26 [0/60000 (0%)]tLoss: 0.225290\n",
            "Train Epoch: 26 [12800/60000 (21%)]tLoss: 0.258475\n",
            "Train Epoch: 26 [25600/60000 (43%)]tLoss: 0.223876\n",
            "Train Epoch: 26 [38400/60000 (64%)]tLoss: 0.137373\n",
            "Train Epoch: 26 [51200/60000 (85%)]tLoss: 0.199974\n",
            "Training accuracy: 0.9288139343261719\n",
            "Train Epoch: 27 [0/60000 (0%)]tLoss: 0.193059\n",
            "Train Epoch: 27 [12800/60000 (21%)]tLoss: 0.169020\n",
            "Train Epoch: 27 [25600/60000 (43%)]tLoss: 0.170789\n",
            "Train Epoch: 27 [38400/60000 (64%)]tLoss: 0.197533\n",
            "Train Epoch: 27 [51200/60000 (85%)]tLoss: 0.256279\n",
            "Training accuracy: 0.9289308190345764\n",
            "Train Epoch: 28 [0/60000 (0%)]tLoss: 0.252039\n",
            "Train Epoch: 28 [12800/60000 (21%)]tLoss: 0.168320\n",
            "Train Epoch: 28 [25600/60000 (43%)]tLoss: 0.177896\n",
            "Train Epoch: 28 [38400/60000 (64%)]tLoss: 0.159999\n",
            "Train Epoch: 28 [51200/60000 (85%)]tLoss: 0.230532\n",
            "Training accuracy: 0.9316239953041077\n",
            "Train Epoch: 29 [0/60000 (0%)]tLoss: 0.157276\n",
            "Train Epoch: 29 [12800/60000 (21%)]tLoss: 0.189419\n",
            "Train Epoch: 29 [25600/60000 (43%)]tLoss: 0.163954\n",
            "Train Epoch: 29 [38400/60000 (64%)]tLoss: 0.158031\n",
            "Train Epoch: 29 [51200/60000 (85%)]tLoss: 0.185759\n",
            "Training accuracy: 0.9318910837173462\n"
          ],
          "name": "stdout"
        }
      ]
    },
    {
      "cell_type": "code",
      "metadata": {
        "colab": {
          "base_uri": "https://localhost:8080/",
          "height": 438
        },
        "id": "Ud7kDqi8ySix",
        "outputId": "6fe5ce68-3e98-427e-f7dd-5c8329b7980c"
      },
      "source": [
        "test_loss = 0\n",
        "correct = 0\n",
        "test_accuracy = 0\n",
        "loss_history = []\n",
        "\n",
        "for data, target in test_loader:\n",
        "   data = data.to(device)\n",
        "   target = target.to(device)\n",
        "   model_out = model(data)\n",
        "   loss = loss_func(model_out, target).data\n",
        "   test_loss += loss\n",
        "   #loss_history.append(loss)\n",
        "   test_accuracy += torch.eq(target, torch.argmax(model_out.data, -1)).float().mean()\n",
        "\n",
        "\n",
        "test_loss = torch.tensor(loss_history).sum() / len(test_loader.dataset)\n",
        "test_accuracy /= len(test_loader)\n",
        "print('Average loss: {:.4f}, Accuracy: {:.4f}'.format(\n",
        "       test_loss, test_accuracy, len(test_loader.dataset)))\n",
        "\n",
        "plt.figure(figsize=(8, 6))\n",
        "    \n",
        "plt.title(\"Test loss\")\n",
        "plt.xlabel(\"#iteration\")\n",
        "plt.ylabel(\"loss\")\n",
        "plt.plot(loss_history, 'b')\n",
        "plt.show()\n",
        "\n",
        "print('Current loss: %f' % loss)"
      ],
      "execution_count": 233,
      "outputs": [
        {
          "output_type": "stream",
          "text": [
            "Average loss: 0.0000, Accuracy: 0.8077\n"
          ],
          "name": "stdout"
        },
        {
          "output_type": "display_data",
          "data": {
            "image/png": "[encoded data removed]",
            "text/plain": [
              "<Figure size 576x432 with 1 Axes>"
            ]
          },
          "metadata": {
            "tags": [],
            "needs_background": "light"
          }
        },
        {
          "output_type": "stream",
          "text": [
            "Current loss: 0.312632\n"
          ],
          "name": "stdout"
        }
      ]
    },
    {
      "cell_type": "markdown",
      "metadata": {
        "id": "L7ISqkjmCPB1"
      },
      "source": [
        "### Task 2: Overfit it.\n",
        "Build a network that will overfit to this dataset. Demonstrate the overfitting in the appropriate way (e.g. plot loss and accurasy on train and test set w.r.t. network complexity).\n",
        "\n",
        "*Note:* you also might decrease the size of `train` dataset to enforce the overfitting and speed up the computations."
      ]
    },
    {
      "cell_type": "code",
      "metadata": {
        "id": "H12uAWiGBwJx"
      },
      "source": [
        "class OverfittingNeuralNetwork(nn.Module):\n",
        "    def __init__(self, input_shape=28*28, num_classes=10, input_channels=1):\n",
        "        super(self.__class__, self).__init__()\n",
        "        some_big_const = 1800\n",
        "        self.model = nn.Sequential(\n",
        "            nn.Flatten(), # This layer converts image into a vector to use Linear layers afterwards\n",
        "            nn.Linear(input_shape, some_big_const), \n",
        "            nn.ReLU(), \n",
        "            nn.Linear(some_big_const, input_shape), \n",
        "            nn.ReLU(), \n",
        "            nn.Linear(input_shape, input_shape), \n",
        "            nn.ReLU(), \n",
        "            nn.Linear(input_shape, num_classes)\n",
        "        )\n",
        "        \n",
        "    def forward(self, inp):       \n",
        "        return self.model(inp)\n"
      ],
      "execution_count": 7,
      "outputs": []
    },
    {
      "cell_type": "code",
      "metadata": {
        "colab": {
          "base_uri": "https://localhost:8080/"
        },
        "id": "JgXAKCpvCwqH",
        "outputId": "10439e6a-2c25-4548-c99a-07d5eba685de"
      },
      "source": [
        "torchsummary.summary(OverfittingNeuralNetwork().to(device), (28*28,))"
      ],
      "execution_count": 8,
      "outputs": [
        {
          "output_type": "stream",
          "text": [
            "----------------------------------------------------------------\n",
            "        Layer (type)               Output Shape         Param #\n",
            "================================================================\n",
            "           Flatten-1                  [-1, 784]               0\n",
            "            Linear-2                 [-1, 1800]       1,413,000\n",
            "              ReLU-3                 [-1, 1800]               0\n",
            "            Linear-4                  [-1, 784]       1,411,984\n",
            "              ReLU-5                  [-1, 784]               0\n",
            "            Linear-6                  [-1, 784]         615,440\n",
            "              ReLU-7                  [-1, 784]               0\n",
            "            Linear-8                   [-1, 10]           7,850\n",
            "================================================================\n",
            "Total params: 3,448,274\n",
            "Trainable params: 3,448,274\n",
            "Non-trainable params: 0\n",
            "----------------------------------------------------------------\n",
            "Input size (MB): 0.00\n",
            "Forward/backward pass size (MB): 0.06\n",
            "Params size (MB): 13.15\n",
            "Estimated Total Size (MB): 13.21\n",
            "----------------------------------------------------------------\n"
          ],
          "name": "stdout"
        }
      ]
    },
    {
      "cell_type": "code",
      "metadata": {
        "colab": {
          "base_uri": "https://localhost:8080/",
          "height": 215
        },
        "id": "A4tNCr25VMhW",
        "outputId": "a380441b-f65e-4dcb-c44d-31d1a5878422"
      },
      "source": [
        "model =  OverfittingNeuralNetwork().to(device)\n",
        "learning_rate = 1e-2\n",
        "opt = torch.optim.SGD(model.parameters(), lr=learning_rate, momentum=0.9)\n",
        "\n",
        "loss_func = nn.CrossEntropyLoss()\n",
        "print(fmnist_dataset_train.data.shape)\n",
        "train_loader_trunc = torch.utils.data.DataLoader(fmnist_dataset_train[:15000], \n",
        "                                           batch_size=128,\n",
        "                                           shuffle=True,\n",
        "                                           num_workers=2)\n"
      ],
      "execution_count": 19,
      "outputs": [
        {
          "output_type": "stream",
          "text": [
            "torch.Size([60000, 28, 28])\n"
          ],
          "name": "stdout"
        },
        {
          "output_type": "error",
          "ename": "AttributeError",
          "evalue": "ignored",
          "traceback": [
            "\u001b[0;31m---------------------------------------------------------------------------\u001b[0m",
            "\u001b[0;31mAttributeError\u001b[0m                            Traceback (most recent call last)",
            "\u001b[0;32m<ipython-input-19-c5ded2725b9f>\u001b[0m in \u001b[0;36m<module>\u001b[0;34m()\u001b[0m\n\u001b[1;32m      9\u001b[0m                                            \u001b[0mshuffle\u001b[0m\u001b[0;34m=\u001b[0m\u001b[0;32mTrue\u001b[0m\u001b[0;34m,\u001b[0m\u001b[0;34m\u001b[0m\u001b[0;34m\u001b[0m\u001b[0m\n\u001b[1;32m     10\u001b[0m                                            num_workers=2)\n\u001b[0;32m---> 11\u001b[0;31m \u001b[0mprint\u001b[0m\u001b[0;34m(\u001b[0m\u001b[0mtrain_loader_trunc\u001b[0m\u001b[0;34m.\u001b[0m\u001b[0mshape\u001b[0m\u001b[0;34m(\u001b[0m\u001b[0;34m)\u001b[0m\u001b[0;34m)\u001b[0m\u001b[0;34m\u001b[0m\u001b[0;34m\u001b[0m\u001b[0m\n\u001b[0m",
            "\u001b[0;31mAttributeError\u001b[0m: 'DataLoader' object has no attribute 'shape'"
          ]
        }
      ]
    },
    {
      "cell_type": "code",
      "metadata": {
        "colab": {
          "base_uri": "https://localhost:8080/",
          "height": 232
        },
        "id": "DxqxiOlbMvSi",
        "outputId": "4e0b1c03-acf4-403f-d295-d4f95655e95c"
      },
      "source": [
        "model =  OverfittingNeuralNetwork().to(device)\n",
        "learning_rate = 1e-2\n",
        "opt = torch.optim.SGD(model.parameters(), lr=learning_rate, momentum=0.9)\n",
        "\n",
        "loss_func = nn.CrossEntropyLoss()\n",
        "#loss_func = nn.NLLLoss()\n",
        "\n",
        "\n",
        "# Your experiments, training and validation loops here\n",
        "epochs = 40\n",
        "log_interval=100\n",
        "training_batch_size = 128\n",
        "training_accuracy = 0\n",
        "\n",
        "loss_history = []\n",
        "loss_history_test = []\n",
        "\n",
        "\n",
        "for epoch in range(epochs):\n",
        "  for batch_idx, (data, target) in enumerate(train_loader_trunc):\n",
        "    data = data.to(device)\n",
        "    target = target.to(device)\n",
        "    opt.zero_grad()\n",
        "    model_out = model(data).to(device)\n",
        "    training_accuracy += (torch.eq(target, torch.argmax(model_out, -1)).float().mean())\n",
        "    loss = loss_func(model_out, target)\n",
        "    loss.backward()\n",
        "    opt.step()\n",
        "    loss_history.append(loss)\n",
        "    if batch_idx % log_interval == 0:\n",
        "      print('Train Epoch: {} [{}/{} ({:.0f}%)]tLoss: {:.6f}'.format(\n",
        "                   epoch, batch_idx * len(data), len(train_loader_trunc.dataset),\n",
        "                          100. * batch_idx / len(train_loader_trunc), loss.data))\n",
        "  training_accuracy = training_accuracy / batch_idx\n",
        "  print('Training accuracy: ' + str(float(training_accuracy)))\n",
        "  training_accuracy = 0\n",
        "\n",
        "  test_loss = torch.tensor(np.ndarray((256, 10))).to(device)\n",
        "  for test_data, test_target in test_loader:\n",
        "    test_data = test_data.to(device)\n",
        "    test_target = test_target.to(device)\n",
        "    model_out = model(test_data).to(device)\n",
        "    test_loss += loss_func(model_out, test_target)\n",
        "    \n",
        "    \n",
        "  print(test_loss.mean() / len(test_loader))\n",
        "  loss_history_test.append(test_loss.mean() / len(test_loader))\n",
        "  \n",
        "\n",
        "plt.figure(figsize=(8, 6))\n",
        "    \n",
        "plt.title(\"Training loss\")\n",
        "plt.xlabel(\"#iteration\")\n",
        "plt.ylabel(\"loss\")\n",
        "plt.plot(loss_history_test, 'b')\n",
        "plt.show()\n",
        "\n",
        "print('Current loss: %f' % loss)"
      ],
      "execution_count": 20,
      "outputs": [
        {
          "output_type": "error",
          "ename": "ValueError",
          "evalue": "ignored",
          "traceback": [
            "\u001b[0;31m---------------------------------------------------------------------------\u001b[0m",
            "\u001b[0;31mValueError\u001b[0m                                Traceback (most recent call last)",
            "\u001b[0;32m<ipython-input-20-00d549502e5a>\u001b[0m in \u001b[0;36m<module>\u001b[0;34m()\u001b[0m\n\u001b[1;32m     18\u001b[0m \u001b[0;34m\u001b[0m\u001b[0m\n\u001b[1;32m     19\u001b[0m \u001b[0;32mfor\u001b[0m \u001b[0mepoch\u001b[0m \u001b[0;32min\u001b[0m \u001b[0mrange\u001b[0m\u001b[0;34m(\u001b[0m\u001b[0mepochs\u001b[0m\u001b[0;34m)\u001b[0m\u001b[0;34m:\u001b[0m\u001b[0;34m\u001b[0m\u001b[0;34m\u001b[0m\u001b[0m\n\u001b[0;32m---> 20\u001b[0;31m   \u001b[0;32mfor\u001b[0m \u001b[0mbatch_idx\u001b[0m\u001b[0;34m,\u001b[0m \u001b[0;34m(\u001b[0m\u001b[0mdata\u001b[0m\u001b[0;34m,\u001b[0m \u001b[0mtarget\u001b[0m\u001b[0;34m)\u001b[0m \u001b[0;32min\u001b[0m \u001b[0menumerate\u001b[0m\u001b[0;34m(\u001b[0m\u001b[0mtrain_loader_trunc\u001b[0m\u001b[0;34m)\u001b[0m\u001b[0;34m:\u001b[0m\u001b[0;34m\u001b[0m\u001b[0;34m\u001b[0m\u001b[0m\n\u001b[0m\u001b[1;32m     21\u001b[0m     \u001b[0mdata\u001b[0m \u001b[0;34m=\u001b[0m \u001b[0mdata\u001b[0m\u001b[0;34m.\u001b[0m\u001b[0mto\u001b[0m\u001b[0;34m(\u001b[0m\u001b[0mdevice\u001b[0m\u001b[0;34m)\u001b[0m\u001b[0;34m\u001b[0m\u001b[0;34m\u001b[0m\u001b[0m\n\u001b[1;32m     22\u001b[0m     \u001b[0mtarget\u001b[0m \u001b[0;34m=\u001b[0m \u001b[0mtarget\u001b[0m\u001b[0;34m.\u001b[0m\u001b[0mto\u001b[0m\u001b[0;34m(\u001b[0m\u001b[0mdevice\u001b[0m\u001b[0;34m)\u001b[0m\u001b[0;34m\u001b[0m\u001b[0;34m\u001b[0m\u001b[0m\n",
            "\u001b[0;31mValueError\u001b[0m: too many values to unpack (expected 2)"
          ]
        }
      ]
    },
    {
      "cell_type": "code",
      "metadata": {
        "colab": {
          "base_uri": "https://localhost:8080/",
          "height": 421
        },
        "id": "Xv_vn6N6Xv-F",
        "outputId": "49925d53-b21e-42ad-8eec-8937dfb72ecd"
      },
      "source": [
        "plt.figure(figsize=(8, 6))\n",
        "    \n",
        "plt.title(\"Training loss\")\n",
        "plt.xlabel(\"#iteration\")\n",
        "plt.ylabel(\"loss\")\n",
        "plt.plot(loss_history_test, 'b')\n",
        "plt.show()\n",
        "\n",
        "print('Current loss: %f' % loss)"
      ],
      "execution_count": 18,
      "outputs": [
        {
          "output_type": "display_data",
          "data": {
            "image/png": "[encoded data removed]",
            "text/plain": [
              "<Figure size 576x432 with 1 Axes>"
            ]
          },
          "metadata": {
            "tags": [],
            "needs_background": "light"
          }
        },
        {
          "output_type": "stream",
          "text": [
            "Current loss: 0.120789\n"
          ],
          "name": "stdout"
        }
      ]
    },
    {
      "cell_type": "code",
      "metadata": {
        "colab": {
          "base_uri": "https://localhost:8080/",
          "height": 1000
        },
        "id": "wPYYhU_gADjg",
        "outputId": "53ea4f12-e624-4f37-c8f7-386a3fac3f17"
      },
      "source": [
        "test_loss = 0\n",
        "correct = 0\n",
        "test_accuracy = 0\n",
        "loss_history = []\n",
        "\n",
        "for data, target in test_loader:\n",
        "   data = data.to(device)\n",
        "   target = target.to(device)\n",
        "   model_out = model(data)\n",
        "   loss = loss_func(model_out, target)\n",
        "   test_loss += loss\n",
        "   loss_history.append(loss)\n",
        "   test_accuracy += torch.eq(target, torch.argmax(model_out.data, -1)).float().mean()\n",
        "   print(float(loss))\n",
        "\n",
        "\n",
        "print(len(test_loader.dataset))\n",
        "print(len(test_loader))\n",
        "test_loss /= len(test_loader.dataset)\n",
        "test_loss_2 = torch.tensor(loss_history).mean()\n",
        "test_accuracy /= len(test_loader)\n",
        "print('Average loss: {:.10f}, or {} Accuracy: {:.4f}'.format(\n",
        "       test_loss, test_loss_2, test_accuracy, len(test_loader.dataset)))\n",
        "\n",
        "plt.figure(figsize=(8, 6))\n",
        "    \n",
        "plt.title(\"Test loss\")\n",
        "plt.xlabel(\"#iteration\")\n",
        "plt.ylabel(\"loss\")\n",
        "plt.plot(loss_history, 'b')\n",
        "plt.show()\n",
        "\n",
        "print('Current loss: %f' % loss)"
      ],
      "execution_count": 226,
      "outputs": [
        {
          "output_type": "stream",
          "text": [
            "0.49290674924850464\n",
            "0.5130499601364136\n",
            "0.43590953946113586\n",
            "0.45735907554626465\n",
            "0.3868239223957062\n",
            "0.46315839886665344\n",
            "0.216996431350708\n",
            "0.41609442234039307\n",
            "0.23908595740795135\n",
            "0.5195851922035217\n",
            "0.48895490169525146\n",
            "0.7692153453826904\n",
            "0.5249449014663696\n",
            "0.8136791586875916\n",
            "0.5510523915290833\n",
            "0.5701797604560852\n",
            "0.4205814599990845\n",
            "0.2849576771259308\n",
            "0.5405169129371643\n",
            "0.5470057129859924\n",
            "0.5212822556495667\n",
            "0.7743275761604309\n",
            "0.36317089200019836\n",
            "0.4212670624256134\n",
            "0.3663294315338135\n",
            "0.5551005005836487\n",
            "0.35752764344215393\n",
            "0.48447591066360474\n",
            "0.419384628534317\n",
            "0.2475580871105194\n",
            "0.39322400093078613\n",
            "0.34857290983200073\n",
            "0.39301204681396484\n",
            "0.3762456774711609\n",
            "0.6233770251274109\n",
            "0.4101601243019104\n",
            "0.5900112390518188\n",
            "0.3887355327606201\n",
            "0.4083695113658905\n",
            "0.001814792980439961\n",
            "10000\n",
            "40\n",
            "Average loss: 0.0018096002, or 0.179422989487648 Accuracy: 0.9014\n"
          ],
          "name": "stdout"
        },
        {
          "output_type": "display_data",
          "data": {
            "image/png": "[encoded data removed]",
            "text/plain": [
              "<Figure size 576x432 with 1 Axes>"
            ]
          },
          "metadata": {
            "tags": [],
            "needs_background": "light"
          }
        },
        {
          "output_type": "stream",
          "text": [
            "Current loss: 0.001815\n"
          ],
          "name": "stdout"
        }
      ]
    },
    {
      "cell_type": "markdown",
      "metadata": {
        "id": "YFTEQ57cMvSj"
      },
      "source": [
        "### Task 3: Fix it.\n",
        "Fix the overfitted network from the previous step (at least partially) by using regularization techniques (Dropout/Batchnorm/...) and demonstrate the results. "
      ]
    },
    {
      "cell_type": "code",
      "metadata": {
        "id": "ZXslGb-SMvSj"
      },
      "source": [
        "class FixedNeuralNetwork(nn.Module):\n",
        "    def __init__(self, input_shape=28*28, num_classes=10, input_channels=1):\n",
        "        super(self.__class__, self).__init__()\n",
        "        self.model = nn.Sequential(\n",
        "            nn.Flatten(), # This layer converts image into a vector to use Linear layers afterwards\n",
        "            # Your network structure comes here\n",
        "            nn.Linear(input_shape, num_classes)\n",
        "        )\n",
        "        \n",
        "    def forward(self, inp):       \n",
        "        out = self.model(inp)"
      ],
      "execution_count": null,
      "outputs": []
    },
    {
      "cell_type": "code",
      "metadata": {
        "id": "YYNld7drMvSk"
      },
      "source": [
        "torchsummary.summary(FixedNeuralNetwork().to(device), (28*28,))"
      ],
      "execution_count": null,
      "outputs": []
    },
    {
      "cell_type": "code",
      "metadata": {
        "id": "D9Gigc8YMvSk"
      },
      "source": [
        "model = FixedNeuralNetwork().to(device)\n",
        "opt = # YOUR CODE HERE\n",
        "loss_func = # YOUR CODE HERE\n",
        "\n",
        "# Your experiments, come here"
      ],
      "execution_count": null,
      "outputs": []
    },
    {
      "cell_type": "markdown",
      "metadata": {
        "id": "dMui_uLJ7G0d"
      },
      "source": [
        "### Conclusions:\n",
        "_Write down small report with your conclusions and your ideas._"
      ]
    }
  ]
}