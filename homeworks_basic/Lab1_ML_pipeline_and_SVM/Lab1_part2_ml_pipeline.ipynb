{
  "nbformat": 4,
  "nbformat_minor": 0,
  "metadata": {
    "celltoolbar": "Create Assignment",
    "kernelspec": {
      "display_name": "Py3 research env",
      "language": "python",
      "name": "py3_research"
    },
    "language_info": {
      "codemirror_mode": {
        "name": "ipython",
        "version": 3
      },
      "file_extension": ".py",
      "mimetype": "text/x-python",
      "name": "python",
      "nbconvert_exporter": "python",
      "pygments_lexer": "ipython3",
      "version": "3.7.7"
    },
    "toc": {
      "base_numbering": 1,
      "nav_menu": {},
      "number_sections": false,
      "sideBar": true,
      "skip_h1_title": false,
      "title_cell": "Table of Contents",
      "title_sidebar": "Contents",
      "toc_cell": false,
      "toc_position": {},
      "toc_section_display": true,
      "toc_window_display": false
    },
    "colab": {
      "name": "Lab1_part2_ml_pipeline.ipynb",
      "provenance": []
    }
  },
  "cells": [
    {
      "cell_type": "markdown",
      "metadata": {
        "nbgrader": {
          "grade": false,
          "grade_id": "cell-86e0de040aac317a",
          "locked": true,
          "schema_version": 2,
          "solution": false
        },
        "id": "Cjrc-YH-QAM5"
      },
      "source": [
        "# Lab assignment №1, part 2\n",
        "\n",
        "This lab assignment consists of several parts. You are supposed to make some transformations, train some models, estimate the quality of the models and explain your results.\n",
        "\n",
        "Several comments:\n",
        "* Don't hesitate to ask questions, it's a good practice.\n",
        "* No private/public sharing, please. The copied assignments will be graded with 0 points.\n",
        "* Blocks of this lab will be graded separately."
      ]
    },
    {
      "cell_type": "markdown",
      "metadata": {
        "id": "M1I-Xp9tQAM9"
      },
      "source": [
        "__*This is the second part of the assignment. First and third parts are waiting for you in the same directory.*__"
      ]
    },
    {
      "cell_type": "markdown",
      "metadata": {
        "nbgrader": {
          "grade": false,
          "grade_id": "cell-512ba712fc0fc065",
          "locked": true,
          "schema_version": 2,
          "solution": false
        },
        "id": "VClHX96FQAM9"
      },
      "source": [
        "## Part 2. Data preprocessing, model training and evaluation."
      ]
    },
    {
      "cell_type": "markdown",
      "metadata": {
        "nbgrader": {
          "grade": false,
          "grade_id": "cell-b656a4266174b009",
          "locked": true,
          "schema_version": 2,
          "solution": false
        },
        "id": "bdegE2jAQAM-"
      },
      "source": [
        "### 1. Reading the data\n",
        "Today we work with the [dataset](https://archive.ics.uci.edu/ml/datasets/Statlog+%28Vehicle+Silhouettes%29), describing different cars for multiclass ($k=4$) classification problem. The data is available below."
      ]
    },
    {
      "cell_type": "code",
      "metadata": {
        "id": "AEvzaPWUQAM-",
        "colab": {
          "base_uri": "https://localhost:8080/"
        },
        "outputId": "d24318fe-199c-4293-8cfe-4ae74b36a118"
      },
      "source": [
        "# If on colab, uncomment the following lines\n",
        "! wget https://raw.githubusercontent.com/girafe-ai/ml-mipt/master/homeworks_basic/Lab1_ML_pipeline_and_SVM/car_data.csv"
      ],
      "execution_count": 149,
      "outputs": [
        {
          "output_type": "stream",
          "name": "stdout",
          "text": [
            "--2021-09-19 20:47:21--  https://raw.githubusercontent.com/girafe-ai/ml-mipt/master/homeworks_basic/Lab1_ML_pipeline_and_SVM/car_data.csv\n",
            "Resolving raw.githubusercontent.com (raw.githubusercontent.com)... 185.199.109.133, 185.199.108.133, 185.199.111.133, ...\n",
            "Connecting to raw.githubusercontent.com (raw.githubusercontent.com)|185.199.109.133|:443... connected.\n",
            "HTTP request sent, awaiting response... 200 OK\n",
            "Length: 58374 (57K) [text/plain]\n",
            "Saving to: ‘car_data.csv.2’\n",
            "\n",
            "\rcar_data.csv.2        0%[                    ]       0  --.-KB/s               \rcar_data.csv.2      100%[===================>]  57.01K  --.-KB/s    in 0.01s   \n",
            "\n",
            "2021-09-19 20:47:21 (3.97 MB/s) - ‘car_data.csv.2’ saved [58374/58374]\n",
            "\n"
          ]
        }
      ]
    },
    {
      "cell_type": "code",
      "metadata": {
        "nbgrader": {
          "grade": false,
          "grade_id": "cell-eebac6bfdf73d0bc",
          "locked": true,
          "schema_version": 2,
          "solution": false
        },
        "id": "SHxFzjF6QAM_",
        "colab": {
          "base_uri": "https://localhost:8080/"
        },
        "outputId": "6bc72d46-59b9-47a5-f80a-a8d13ece8743"
      },
      "source": [
        "import pandas as pd\n",
        "import numpy as np\n",
        "from sklearn.model_selection import train_test_split, GridSearchCV\n",
        "\n",
        "dataset = pd.read_csv('car_data.csv', delimiter=',', header=None).values\n",
        "data = dataset[:, :-1].astype(int)\n",
        "target = dataset[:, -1]\n",
        "\n",
        "print(data.shape, target.shape)\n",
        "\n",
        "X_train, X_test, y_train, y_test = train_test_split(data, target, test_size=0.35)\n",
        "print(X_train.shape, y_train.shape, X_test.shape, y_test.shape)"
      ],
      "execution_count": 150,
      "outputs": [
        {
          "output_type": "stream",
          "name": "stdout",
          "text": [
            "(846, 19) (846,)\n",
            "(549, 19) (549,) (297, 19) (297,)\n"
          ]
        }
      ]
    },
    {
      "cell_type": "markdown",
      "metadata": {
        "nbgrader": {
          "grade": false,
          "grade_id": "cell-88b1a0f688568f2c",
          "locked": true,
          "schema_version": 2,
          "solution": false
        },
        "id": "yuhIT88bQANA"
      },
      "source": [
        "To get some insights about the dataset, `pandas` might be used. The `train` part is transformed to `pd.DataFrame` below."
      ]
    },
    {
      "cell_type": "code",
      "metadata": {
        "id": "vvhjnepEQANB",
        "colab": {
          "base_uri": "https://localhost:8080/",
          "height": 511
        },
        "outputId": "253c6da0-a48b-4960-b6e7-1bfdd94a260b"
      },
      "source": [
        "X_train_pd = pd.DataFrame(X_train)\n",
        "\n",
        "# First 15 rows of our dataset.\n",
        "X_train_pd.head(15)"
      ],
      "execution_count": 151,
      "outputs": [
        {
          "output_type": "execute_result",
          "data": {
            "text/html": [
              "<div>\n",
              "<style scoped>\n",
              "    .dataframe tbody tr th:only-of-type {\n",
              "        vertical-align: middle;\n",
              "    }\n",
              "\n",
              "    .dataframe tbody tr th {\n",
              "        vertical-align: top;\n",
              "    }\n",
              "\n",
              "    .dataframe thead th {\n",
              "        text-align: right;\n",
              "    }\n",
              "</style>\n",
              "<table border=\"1\" class=\"dataframe\">\n",
              "  <thead>\n",
              "    <tr style=\"text-align: right;\">\n",
              "      <th></th>\n",
              "      <th>0</th>\n",
              "      <th>1</th>\n",
              "      <th>2</th>\n",
              "      <th>3</th>\n",
              "      <th>4</th>\n",
              "      <th>5</th>\n",
              "      <th>6</th>\n",
              "      <th>7</th>\n",
              "      <th>8</th>\n",
              "      <th>9</th>\n",
              "      <th>10</th>\n",
              "      <th>11</th>\n",
              "      <th>12</th>\n",
              "      <th>13</th>\n",
              "      <th>14</th>\n",
              "      <th>15</th>\n",
              "      <th>16</th>\n",
              "      <th>17</th>\n",
              "      <th>18</th>\n",
              "    </tr>\n",
              "  </thead>\n",
              "  <tbody>\n",
              "    <tr>\n",
              "      <th>0</th>\n",
              "      <td>253</td>\n",
              "      <td>94</td>\n",
              "      <td>43</td>\n",
              "      <td>68</td>\n",
              "      <td>170</td>\n",
              "      <td>67</td>\n",
              "      <td>6</td>\n",
              "      <td>142</td>\n",
              "      <td>46</td>\n",
              "      <td>18</td>\n",
              "      <td>142</td>\n",
              "      <td>164</td>\n",
              "      <td>310</td>\n",
              "      <td>177</td>\n",
              "      <td>65</td>\n",
              "      <td>10</td>\n",
              "      <td>8</td>\n",
              "      <td>198</td>\n",
              "      <td>203</td>\n",
              "    </tr>\n",
              "    <tr>\n",
              "      <th>1</th>\n",
              "      <td>236</td>\n",
              "      <td>96</td>\n",
              "      <td>37</td>\n",
              "      <td>74</td>\n",
              "      <td>199</td>\n",
              "      <td>74</td>\n",
              "      <td>5</td>\n",
              "      <td>165</td>\n",
              "      <td>39</td>\n",
              "      <td>20</td>\n",
              "      <td>128</td>\n",
              "      <td>188</td>\n",
              "      <td>419</td>\n",
              "      <td>136</td>\n",
              "      <td>72</td>\n",
              "      <td>1</td>\n",
              "      <td>3</td>\n",
              "      <td>196</td>\n",
              "      <td>200</td>\n",
              "    </tr>\n",
              "    <tr>\n",
              "      <th>2</th>\n",
              "      <td>729</td>\n",
              "      <td>103</td>\n",
              "      <td>48</td>\n",
              "      <td>96</td>\n",
              "      <td>232</td>\n",
              "      <td>71</td>\n",
              "      <td>10</td>\n",
              "      <td>205</td>\n",
              "      <td>32</td>\n",
              "      <td>23</td>\n",
              "      <td>153</td>\n",
              "      <td>226</td>\n",
              "      <td>633</td>\n",
              "      <td>197</td>\n",
              "      <td>71</td>\n",
              "      <td>2</td>\n",
              "      <td>15</td>\n",
              "      <td>188</td>\n",
              "      <td>196</td>\n",
              "    </tr>\n",
              "    <tr>\n",
              "      <th>3</th>\n",
              "      <td>596</td>\n",
              "      <td>90</td>\n",
              "      <td>40</td>\n",
              "      <td>83</td>\n",
              "      <td>178</td>\n",
              "      <td>61</td>\n",
              "      <td>8</td>\n",
              "      <td>178</td>\n",
              "      <td>37</td>\n",
              "      <td>21</td>\n",
              "      <td>132</td>\n",
              "      <td>199</td>\n",
              "      <td>472</td>\n",
              "      <td>157</td>\n",
              "      <td>71</td>\n",
              "      <td>1</td>\n",
              "      <td>14</td>\n",
              "      <td>187</td>\n",
              "      <td>193</td>\n",
              "    </tr>\n",
              "    <tr>\n",
              "      <th>4</th>\n",
              "      <td>683</td>\n",
              "      <td>110</td>\n",
              "      <td>56</td>\n",
              "      <td>109</td>\n",
              "      <td>199</td>\n",
              "      <td>57</td>\n",
              "      <td>5</td>\n",
              "      <td>251</td>\n",
              "      <td>27</td>\n",
              "      <td>27</td>\n",
              "      <td>169</td>\n",
              "      <td>272</td>\n",
              "      <td>928</td>\n",
              "      <td>268</td>\n",
              "      <td>82</td>\n",
              "      <td>11</td>\n",
              "      <td>10</td>\n",
              "      <td>183</td>\n",
              "      <td>183</td>\n",
              "    </tr>\n",
              "    <tr>\n",
              "      <th>5</th>\n",
              "      <td>735</td>\n",
              "      <td>86</td>\n",
              "      <td>37</td>\n",
              "      <td>77</td>\n",
              "      <td>144</td>\n",
              "      <td>54</td>\n",
              "      <td>7</td>\n",
              "      <td>154</td>\n",
              "      <td>43</td>\n",
              "      <td>19</td>\n",
              "      <td>127</td>\n",
              "      <td>179</td>\n",
              "      <td>352</td>\n",
              "      <td>145</td>\n",
              "      <td>71</td>\n",
              "      <td>14</td>\n",
              "      <td>13</td>\n",
              "      <td>186</td>\n",
              "      <td>191</td>\n",
              "    </tr>\n",
              "    <tr>\n",
              "      <th>6</th>\n",
              "      <td>715</td>\n",
              "      <td>100</td>\n",
              "      <td>52</td>\n",
              "      <td>109</td>\n",
              "      <td>225</td>\n",
              "      <td>68</td>\n",
              "      <td>10</td>\n",
              "      <td>222</td>\n",
              "      <td>30</td>\n",
              "      <td>25</td>\n",
              "      <td>165</td>\n",
              "      <td>241</td>\n",
              "      <td>731</td>\n",
              "      <td>207</td>\n",
              "      <td>73</td>\n",
              "      <td>7</td>\n",
              "      <td>28</td>\n",
              "      <td>188</td>\n",
              "      <td>199</td>\n",
              "    </tr>\n",
              "    <tr>\n",
              "      <th>7</th>\n",
              "      <td>525</td>\n",
              "      <td>92</td>\n",
              "      <td>45</td>\n",
              "      <td>76</td>\n",
              "      <td>162</td>\n",
              "      <td>57</td>\n",
              "      <td>7</td>\n",
              "      <td>159</td>\n",
              "      <td>41</td>\n",
              "      <td>20</td>\n",
              "      <td>147</td>\n",
              "      <td>184</td>\n",
              "      <td>381</td>\n",
              "      <td>177</td>\n",
              "      <td>69</td>\n",
              "      <td>8</td>\n",
              "      <td>10</td>\n",
              "      <td>190</td>\n",
              "      <td>195</td>\n",
              "    </tr>\n",
              "    <tr>\n",
              "      <th>8</th>\n",
              "      <td>587</td>\n",
              "      <td>84</td>\n",
              "      <td>38</td>\n",
              "      <td>74</td>\n",
              "      <td>138</td>\n",
              "      <td>57</td>\n",
              "      <td>8</td>\n",
              "      <td>139</td>\n",
              "      <td>49</td>\n",
              "      <td>18</td>\n",
              "      <td>127</td>\n",
              "      <td>160</td>\n",
              "      <td>282</td>\n",
              "      <td>127</td>\n",
              "      <td>72</td>\n",
              "      <td>9</td>\n",
              "      <td>20</td>\n",
              "      <td>183</td>\n",
              "      <td>191</td>\n",
              "    </tr>\n",
              "    <tr>\n",
              "      <th>9</th>\n",
              "      <td>650</td>\n",
              "      <td>98</td>\n",
              "      <td>55</td>\n",
              "      <td>104</td>\n",
              "      <td>213</td>\n",
              "      <td>67</td>\n",
              "      <td>9</td>\n",
              "      <td>206</td>\n",
              "      <td>32</td>\n",
              "      <td>23</td>\n",
              "      <td>167</td>\n",
              "      <td>223</td>\n",
              "      <td>629</td>\n",
              "      <td>220</td>\n",
              "      <td>72</td>\n",
              "      <td>5</td>\n",
              "      <td>19</td>\n",
              "      <td>187</td>\n",
              "      <td>196</td>\n",
              "    </tr>\n",
              "    <tr>\n",
              "      <th>10</th>\n",
              "      <td>409</td>\n",
              "      <td>86</td>\n",
              "      <td>38</td>\n",
              "      <td>86</td>\n",
              "      <td>175</td>\n",
              "      <td>60</td>\n",
              "      <td>9</td>\n",
              "      <td>170</td>\n",
              "      <td>39</td>\n",
              "      <td>21</td>\n",
              "      <td>134</td>\n",
              "      <td>191</td>\n",
              "      <td>433</td>\n",
              "      <td>138</td>\n",
              "      <td>68</td>\n",
              "      <td>1</td>\n",
              "      <td>28</td>\n",
              "      <td>191</td>\n",
              "      <td>199</td>\n",
              "    </tr>\n",
              "    <tr>\n",
              "      <th>11</th>\n",
              "      <td>215</td>\n",
              "      <td>90</td>\n",
              "      <td>39</td>\n",
              "      <td>86</td>\n",
              "      <td>169</td>\n",
              "      <td>62</td>\n",
              "      <td>7</td>\n",
              "      <td>162</td>\n",
              "      <td>41</td>\n",
              "      <td>20</td>\n",
              "      <td>131</td>\n",
              "      <td>194</td>\n",
              "      <td>388</td>\n",
              "      <td>147</td>\n",
              "      <td>74</td>\n",
              "      <td>1</td>\n",
              "      <td>22</td>\n",
              "      <td>185</td>\n",
              "      <td>191</td>\n",
              "    </tr>\n",
              "    <tr>\n",
              "      <th>12</th>\n",
              "      <td>837</td>\n",
              "      <td>94</td>\n",
              "      <td>46</td>\n",
              "      <td>77</td>\n",
              "      <td>169</td>\n",
              "      <td>60</td>\n",
              "      <td>8</td>\n",
              "      <td>158</td>\n",
              "      <td>42</td>\n",
              "      <td>20</td>\n",
              "      <td>148</td>\n",
              "      <td>181</td>\n",
              "      <td>373</td>\n",
              "      <td>181</td>\n",
              "      <td>67</td>\n",
              "      <td>12</td>\n",
              "      <td>2</td>\n",
              "      <td>193</td>\n",
              "      <td>199</td>\n",
              "    </tr>\n",
              "    <tr>\n",
              "      <th>13</th>\n",
              "      <td>800</td>\n",
              "      <td>88</td>\n",
              "      <td>41</td>\n",
              "      <td>80</td>\n",
              "      <td>147</td>\n",
              "      <td>62</td>\n",
              "      <td>8</td>\n",
              "      <td>146</td>\n",
              "      <td>45</td>\n",
              "      <td>19</td>\n",
              "      <td>144</td>\n",
              "      <td>169</td>\n",
              "      <td>318</td>\n",
              "      <td>161</td>\n",
              "      <td>71</td>\n",
              "      <td>4</td>\n",
              "      <td>16</td>\n",
              "      <td>188</td>\n",
              "      <td>197</td>\n",
              "    </tr>\n",
              "    <tr>\n",
              "      <th>14</th>\n",
              "      <td>543</td>\n",
              "      <td>96</td>\n",
              "      <td>37</td>\n",
              "      <td>74</td>\n",
              "      <td>187</td>\n",
              "      <td>68</td>\n",
              "      <td>8</td>\n",
              "      <td>159</td>\n",
              "      <td>42</td>\n",
              "      <td>20</td>\n",
              "      <td>134</td>\n",
              "      <td>183</td>\n",
              "      <td>378</td>\n",
              "      <td>134</td>\n",
              "      <td>69</td>\n",
              "      <td>3</td>\n",
              "      <td>16</td>\n",
              "      <td>190</td>\n",
              "      <td>197</td>\n",
              "    </tr>\n",
              "  </tbody>\n",
              "</table>\n",
              "</div>"
            ],
            "text/plain": [
              "     0    1   2    3    4   5   6    7   ...   11   12   13  14  15  16   17   18\n",
              "0   253   94  43   68  170  67   6  142  ...  164  310  177  65  10   8  198  203\n",
              "1   236   96  37   74  199  74   5  165  ...  188  419  136  72   1   3  196  200\n",
              "2   729  103  48   96  232  71  10  205  ...  226  633  197  71   2  15  188  196\n",
              "3   596   90  40   83  178  61   8  178  ...  199  472  157  71   1  14  187  193\n",
              "4   683  110  56  109  199  57   5  251  ...  272  928  268  82  11  10  183  183\n",
              "5   735   86  37   77  144  54   7  154  ...  179  352  145  71  14  13  186  191\n",
              "6   715  100  52  109  225  68  10  222  ...  241  731  207  73   7  28  188  199\n",
              "7   525   92  45   76  162  57   7  159  ...  184  381  177  69   8  10  190  195\n",
              "8   587   84  38   74  138  57   8  139  ...  160  282  127  72   9  20  183  191\n",
              "9   650   98  55  104  213  67   9  206  ...  223  629  220  72   5  19  187  196\n",
              "10  409   86  38   86  175  60   9  170  ...  191  433  138  68   1  28  191  199\n",
              "11  215   90  39   86  169  62   7  162  ...  194  388  147  74   1  22  185  191\n",
              "12  837   94  46   77  169  60   8  158  ...  181  373  181  67  12   2  193  199\n",
              "13  800   88  41   80  147  62   8  146  ...  169  318  161  71   4  16  188  197\n",
              "14  543   96  37   74  187  68   8  159  ...  183  378  134  69   3  16  190  197\n",
              "\n",
              "[15 rows x 19 columns]"
            ]
          },
          "metadata": {},
          "execution_count": 151
        }
      ]
    },
    {
      "cell_type": "markdown",
      "metadata": {
        "nbgrader": {
          "grade": false,
          "grade_id": "cell-98e7d91d77d65fcf",
          "locked": true,
          "schema_version": 2,
          "solution": false
        },
        "id": "7MaURYIuQANC"
      },
      "source": [
        "Methods `describe` and `info` deliver some useful information."
      ]
    },
    {
      "cell_type": "code",
      "metadata": {
        "id": "7jBNJ13CQANC",
        "colab": {
          "base_uri": "https://localhost:8080/",
          "height": 315
        },
        "outputId": "f08c301a-9995-4ad1-cc9a-7989093646c8"
      },
      "source": [
        "X_train_pd.describe()"
      ],
      "execution_count": 152,
      "outputs": [
        {
          "output_type": "execute_result",
          "data": {
            "text/html": [
              "<div>\n",
              "<style scoped>\n",
              "    .dataframe tbody tr th:only-of-type {\n",
              "        vertical-align: middle;\n",
              "    }\n",
              "\n",
              "    .dataframe tbody tr th {\n",
              "        vertical-align: top;\n",
              "    }\n",
              "\n",
              "    .dataframe thead th {\n",
              "        text-align: right;\n",
              "    }\n",
              "</style>\n",
              "<table border=\"1\" class=\"dataframe\">\n",
              "  <thead>\n",
              "    <tr style=\"text-align: right;\">\n",
              "      <th></th>\n",
              "      <th>0</th>\n",
              "      <th>1</th>\n",
              "      <th>2</th>\n",
              "      <th>3</th>\n",
              "      <th>4</th>\n",
              "      <th>5</th>\n",
              "      <th>6</th>\n",
              "      <th>7</th>\n",
              "      <th>8</th>\n",
              "      <th>9</th>\n",
              "      <th>10</th>\n",
              "      <th>11</th>\n",
              "      <th>12</th>\n",
              "      <th>13</th>\n",
              "      <th>14</th>\n",
              "      <th>15</th>\n",
              "      <th>16</th>\n",
              "      <th>17</th>\n",
              "      <th>18</th>\n",
              "    </tr>\n",
              "  </thead>\n",
              "  <tbody>\n",
              "    <tr>\n",
              "      <th>count</th>\n",
              "      <td>549.00000</td>\n",
              "      <td>549.000000</td>\n",
              "      <td>549.000000</td>\n",
              "      <td>549.000000</td>\n",
              "      <td>549.000000</td>\n",
              "      <td>549.000000</td>\n",
              "      <td>549.000000</td>\n",
              "      <td>549.000000</td>\n",
              "      <td>549.000000</td>\n",
              "      <td>549.000000</td>\n",
              "      <td>549.000000</td>\n",
              "      <td>549.000000</td>\n",
              "      <td>549.000000</td>\n",
              "      <td>549.000000</td>\n",
              "      <td>549.000000</td>\n",
              "      <td>549.000000</td>\n",
              "      <td>549.000000</td>\n",
              "      <td>549.000000</td>\n",
              "      <td>549.000000</td>\n",
              "    </tr>\n",
              "    <tr>\n",
              "      <th>mean</th>\n",
              "      <td>429.75592</td>\n",
              "      <td>93.693989</td>\n",
              "      <td>45.089253</td>\n",
              "      <td>82.517304</td>\n",
              "      <td>169.874317</td>\n",
              "      <td>61.808743</td>\n",
              "      <td>8.557377</td>\n",
              "      <td>169.963570</td>\n",
              "      <td>40.653916</td>\n",
              "      <td>20.666667</td>\n",
              "      <td>148.519126</td>\n",
              "      <td>189.739526</td>\n",
              "      <td>445.739526</td>\n",
              "      <td>175.673953</td>\n",
              "      <td>72.544627</td>\n",
              "      <td>6.375228</td>\n",
              "      <td>12.635701</td>\n",
              "      <td>188.859745</td>\n",
              "      <td>195.528233</td>\n",
              "    </tr>\n",
              "    <tr>\n",
              "      <th>std</th>\n",
              "      <td>246.02745</td>\n",
              "      <td>8.136225</td>\n",
              "      <td>6.151765</td>\n",
              "      <td>15.665125</td>\n",
              "      <td>33.527370</td>\n",
              "      <td>8.084287</td>\n",
              "      <td>4.539655</td>\n",
              "      <td>33.255296</td>\n",
              "      <td>7.774214</td>\n",
              "      <td>2.582224</td>\n",
              "      <td>14.596961</td>\n",
              "      <td>31.516007</td>\n",
              "      <td>177.236479</td>\n",
              "      <td>32.332912</td>\n",
              "      <td>7.277121</td>\n",
              "      <td>4.868846</td>\n",
              "      <td>8.493572</td>\n",
              "      <td>6.051814</td>\n",
              "      <td>7.284973</td>\n",
              "    </tr>\n",
              "    <tr>\n",
              "      <th>min</th>\n",
              "      <td>0.00000</td>\n",
              "      <td>73.000000</td>\n",
              "      <td>33.000000</td>\n",
              "      <td>40.000000</td>\n",
              "      <td>105.000000</td>\n",
              "      <td>47.000000</td>\n",
              "      <td>2.000000</td>\n",
              "      <td>112.000000</td>\n",
              "      <td>26.000000</td>\n",
              "      <td>17.000000</td>\n",
              "      <td>119.000000</td>\n",
              "      <td>130.000000</td>\n",
              "      <td>184.000000</td>\n",
              "      <td>109.000000</td>\n",
              "      <td>59.000000</td>\n",
              "      <td>0.000000</td>\n",
              "      <td>0.000000</td>\n",
              "      <td>176.000000</td>\n",
              "      <td>181.000000</td>\n",
              "    </tr>\n",
              "    <tr>\n",
              "      <th>25%</th>\n",
              "      <td>215.00000</td>\n",
              "      <td>87.000000</td>\n",
              "      <td>40.000000</td>\n",
              "      <td>70.000000</td>\n",
              "      <td>142.000000</td>\n",
              "      <td>57.000000</td>\n",
              "      <td>7.000000</td>\n",
              "      <td>147.000000</td>\n",
              "      <td>33.000000</td>\n",
              "      <td>19.000000</td>\n",
              "      <td>138.000000</td>\n",
              "      <td>168.000000</td>\n",
              "      <td>321.000000</td>\n",
              "      <td>151.000000</td>\n",
              "      <td>68.000000</td>\n",
              "      <td>2.000000</td>\n",
              "      <td>6.000000</td>\n",
              "      <td>185.000000</td>\n",
              "      <td>191.000000</td>\n",
              "    </tr>\n",
              "    <tr>\n",
              "      <th>50%</th>\n",
              "      <td>438.00000</td>\n",
              "      <td>93.000000</td>\n",
              "      <td>45.000000</td>\n",
              "      <td>80.000000</td>\n",
              "      <td>169.000000</td>\n",
              "      <td>61.000000</td>\n",
              "      <td>8.000000</td>\n",
              "      <td>158.000000</td>\n",
              "      <td>42.000000</td>\n",
              "      <td>20.000000</td>\n",
              "      <td>146.000000</td>\n",
              "      <td>181.000000</td>\n",
              "      <td>368.000000</td>\n",
              "      <td>174.000000</td>\n",
              "      <td>72.000000</td>\n",
              "      <td>6.000000</td>\n",
              "      <td>11.000000</td>\n",
              "      <td>188.000000</td>\n",
              "      <td>197.000000</td>\n",
              "    </tr>\n",
              "    <tr>\n",
              "      <th>75%</th>\n",
              "      <td>650.00000</td>\n",
              "      <td>100.000000</td>\n",
              "      <td>50.000000</td>\n",
              "      <td>98.000000</td>\n",
              "      <td>197.000000</td>\n",
              "      <td>65.000000</td>\n",
              "      <td>10.000000</td>\n",
              "      <td>201.000000</td>\n",
              "      <td>46.000000</td>\n",
              "      <td>23.000000</td>\n",
              "      <td>160.000000</td>\n",
              "      <td>218.000000</td>\n",
              "      <td>602.000000</td>\n",
              "      <td>199.000000</td>\n",
              "      <td>75.000000</td>\n",
              "      <td>9.000000</td>\n",
              "      <td>18.000000</td>\n",
              "      <td>193.000000</td>\n",
              "      <td>201.000000</td>\n",
              "    </tr>\n",
              "    <tr>\n",
              "      <th>max</th>\n",
              "      <td>845.00000</td>\n",
              "      <td>115.000000</td>\n",
              "      <td>59.000000</td>\n",
              "      <td>112.000000</td>\n",
              "      <td>333.000000</td>\n",
              "      <td>138.000000</td>\n",
              "      <td>55.000000</td>\n",
              "      <td>262.000000</td>\n",
              "      <td>61.000000</td>\n",
              "      <td>28.000000</td>\n",
              "      <td>188.000000</td>\n",
              "      <td>320.000000</td>\n",
              "      <td>998.000000</td>\n",
              "      <td>268.000000</td>\n",
              "      <td>135.000000</td>\n",
              "      <td>22.000000</td>\n",
              "      <td>41.000000</td>\n",
              "      <td>206.000000</td>\n",
              "      <td>211.000000</td>\n",
              "    </tr>\n",
              "  </tbody>\n",
              "</table>\n",
              "</div>"
            ],
            "text/plain": [
              "              0           1           2   ...          16          17          18\n",
              "count  549.00000  549.000000  549.000000  ...  549.000000  549.000000  549.000000\n",
              "mean   429.75592   93.693989   45.089253  ...   12.635701  188.859745  195.528233\n",
              "std    246.02745    8.136225    6.151765  ...    8.493572    6.051814    7.284973\n",
              "min      0.00000   73.000000   33.000000  ...    0.000000  176.000000  181.000000\n",
              "25%    215.00000   87.000000   40.000000  ...    6.000000  185.000000  191.000000\n",
              "50%    438.00000   93.000000   45.000000  ...   11.000000  188.000000  197.000000\n",
              "75%    650.00000  100.000000   50.000000  ...   18.000000  193.000000  201.000000\n",
              "max    845.00000  115.000000   59.000000  ...   41.000000  206.000000  211.000000\n",
              "\n",
              "[8 rows x 19 columns]"
            ]
          },
          "metadata": {},
          "execution_count": 152
        }
      ]
    },
    {
      "cell_type": "code",
      "metadata": {
        "id": "bjIfxv9aQANC",
        "colab": {
          "base_uri": "https://localhost:8080/"
        },
        "outputId": "95d12302-332b-48d3-9280-1f108ec92a1a"
      },
      "source": [
        "X_train_pd.info()"
      ],
      "execution_count": 153,
      "outputs": [
        {
          "output_type": "stream",
          "name": "stdout",
          "text": [
            "<class 'pandas.core.frame.DataFrame'>\n",
            "RangeIndex: 549 entries, 0 to 548\n",
            "Data columns (total 19 columns):\n",
            " #   Column  Non-Null Count  Dtype\n",
            "---  ------  --------------  -----\n",
            " 0   0       549 non-null    int64\n",
            " 1   1       549 non-null    int64\n",
            " 2   2       549 non-null    int64\n",
            " 3   3       549 non-null    int64\n",
            " 4   4       549 non-null    int64\n",
            " 5   5       549 non-null    int64\n",
            " 6   6       549 non-null    int64\n",
            " 7   7       549 non-null    int64\n",
            " 8   8       549 non-null    int64\n",
            " 9   9       549 non-null    int64\n",
            " 10  10      549 non-null    int64\n",
            " 11  11      549 non-null    int64\n",
            " 12  12      549 non-null    int64\n",
            " 13  13      549 non-null    int64\n",
            " 14  14      549 non-null    int64\n",
            " 15  15      549 non-null    int64\n",
            " 16  16      549 non-null    int64\n",
            " 17  17      549 non-null    int64\n",
            " 18  18      549 non-null    int64\n",
            "dtypes: int64(19)\n",
            "memory usage: 81.6 KB\n"
          ]
        }
      ]
    },
    {
      "cell_type": "markdown",
      "metadata": {
        "nbgrader": {
          "grade": false,
          "grade_id": "cell-be844269be69c387",
          "locked": true,
          "schema_version": 2,
          "solution": false
        },
        "id": "cMc9W9h6QANF"
      },
      "source": [
        "### 2. Machine Learning pipeline\n",
        "Here you are supposed to perform the desired transformations. Please, explain your results briefly after each task."
      ]
    },
    {
      "cell_type": "markdown",
      "metadata": {
        "id": "WaV8e8ioQANF"
      },
      "source": [
        "#### 2.0. Data preprocessing\n",
        "* Make some transformations of the dataset (if necessary). Briefly explain the transformations"
      ]
    },
    {
      "cell_type": "code",
      "metadata": {
        "nbgrader": {
          "grade": true,
          "grade_id": "cell-a1514aa189a49fca",
          "locked": false,
          "points": 15,
          "schema_version": 2,
          "solution": true
        },
        "id": "GlhYoDk1QANG"
      },
      "source": [
        "from sklearn.preprocessing import MinMaxScaler\n",
        "min_max_scaler = MinMaxScaler()\n",
        "X_train = min_max_scaler.fit_transform(X_train)\n",
        "X_test = min_max_scaler.fit_transform(X_test)"
      ],
      "execution_count": 154,
      "outputs": []
    },
    {
      "cell_type": "markdown",
      "metadata": {
        "id": "ARTdmz3QQANG"
      },
      "source": [
        "#### 2.1. Basic logistic regression\n",
        "* Find optimal hyperparameters for logistic regression with cross-validation on the `train` data (small grid/random search is enough, no need to find the *best* parameters).\n",
        "\n",
        "* Estimate the model quality with `f1` and `accuracy` scores.\n",
        "* Plot a ROC-curve for the trained model. For the multiclass case you might use `scikitplot` library (e.g. `scikitplot.metrics.plot_roc(test_labels, predicted_proba)`).\n",
        "\n",
        "*Note: please, use the following hyperparameters for logistic regression: `multi_class='multinomial'`, `solver='saga'` `tol=1e-3` and ` max_iter=500`.*"
      ]
    },
    {
      "cell_type": "code",
      "metadata": {
        "nbgrader": {
          "grade": true,
          "grade_id": "cell-1dd5ad5d0845cbbb",
          "locked": false,
          "points": 5,
          "schema_version": 2,
          "solution": true
        },
        "id": "1iIdikxiQANH"
      },
      "source": [
        "from sklearn.linear_model import LogisticRegression\n",
        "import warnings\n",
        "warnings.filterwarnings('ignore')"
      ],
      "execution_count": 155,
      "outputs": []
    },
    {
      "cell_type": "code",
      "metadata": {
        "id": "PYy8QfI-znGX",
        "colab": {
          "base_uri": "https://localhost:8080/"
        },
        "outputId": "33997da8-84db-4c7e-e604-e4c897b6b7d4"
      },
      "source": [
        "lr = LogisticRegression(solver='saga', multi_class='multinomial', tol=1e-3, max_iter=500)\n",
        "\n",
        "param_grid = {'penalty': ['l1', 'l2'],\n",
        "    'C': np.linspace(0, 20, 100, endpoint=False)\n",
        "}\n",
        "\n",
        "grid_cv = GridSearchCV(estimator=lr, param_grid=param_grid)\n",
        "grid_cv.fit(X_train, y_train)"
      ],
      "execution_count": 143,
      "outputs": [
        {
          "output_type": "execute_result",
          "data": {
            "text/plain": [
              "GridSearchCV(cv=None, error_score=nan,\n",
              "             estimator=LogisticRegression(C=1.0, class_weight=None, dual=False,\n",
              "                                          fit_intercept=True,\n",
              "                                          intercept_scaling=1, l1_ratio=None,\n",
              "                                          max_iter=500,\n",
              "                                          multi_class='multinomial',\n",
              "                                          n_jobs=None, penalty='l2',\n",
              "                                          random_state=None, solver='saga',\n",
              "                                          tol=0.001, verbose=0,\n",
              "                                          warm_start=False),\n",
              "             iid='deprecated', n_jobs=None,\n",
              "             param_grid={'C': array([ 0. ,  0.2,  0.4...\n",
              "        8.8,  9. ,  9.2,  9.4,  9.6,  9.8, 10. , 10.2, 10.4, 10.6, 10.8,\n",
              "       11. , 11.2, 11.4, 11.6, 11.8, 12. , 12.2, 12.4, 12.6, 12.8, 13. ,\n",
              "       13.2, 13.4, 13.6, 13.8, 14. , 14.2, 14.4, 14.6, 14.8, 15. , 15.2,\n",
              "       15.4, 15.6, 15.8, 16. , 16.2, 16.4, 16.6, 16.8, 17. , 17.2, 17.4,\n",
              "       17.6, 17.8, 18. , 18.2, 18.4, 18.6, 18.8, 19. , 19.2, 19.4, 19.6,\n",
              "       19.8]),\n",
              "                         'penalty': ['l1', 'l2']},\n",
              "             pre_dispatch='2*n_jobs', refit=True, return_train_score=False,\n",
              "             scoring=None, verbose=0)"
            ]
          },
          "metadata": {},
          "execution_count": 143
        }
      ]
    },
    {
      "cell_type": "code",
      "metadata": {
        "id": "EA-igPFAdXFc",
        "colab": {
          "base_uri": "https://localhost:8080/"
        },
        "outputId": "d1067d54-45f1-4170-f055-84421e2809cf"
      },
      "source": [
        "grid_cv.best_params_"
      ],
      "execution_count": 144,
      "outputs": [
        {
          "output_type": "execute_result",
          "data": {
            "text/plain": [
              "{'C': 19.400000000000002, 'penalty': 'l1'}"
            ]
          },
          "metadata": {},
          "execution_count": 144
        }
      ]
    },
    {
      "cell_type": "code",
      "metadata": {
        "id": "viJOMVY-gajG"
      },
      "source": [
        "best_c = grid_cv.best_params_['C']\n",
        "best_penalty = grid_cv.best_params_['penalty']\n"
      ],
      "execution_count": 145,
      "outputs": []
    },
    {
      "cell_type": "code",
      "metadata": {
        "id": "GGKwNmZ2j1sa",
        "colab": {
          "base_uri": "https://localhost:8080/"
        },
        "outputId": "2dd5a9e4-6fb9-4e5c-faf5-c1858ad896e2"
      },
      "source": [
        "from sklearn.metrics import accuracy_score, f1_score\n",
        "from scikitplot.metrics import plot_roc\n",
        "\n",
        "lr_new = LogisticRegression(solver='saga', multi_class='multinomial', tol=1e-3, max_iter=500, C=best_c, penalty=best_penalty)\n",
        "lr_new.fit(X_train, y_train)\n",
        "y_pred = lr_new.predict(X_train)\n",
        "\n",
        "print('Accuracy: {}, f1 score: {}'.format(accuracy_score(y_train, y_pred), f1_score(y_train, y_pred, average='macro')))"
      ],
      "execution_count": 146,
      "outputs": [
        {
          "output_type": "stream",
          "name": "stdout",
          "text": [
            "Accuracy: 0.8233151183970856, f1 score: 0.8163315804775183\n"
          ]
        }
      ]
    },
    {
      "cell_type": "code",
      "metadata": {
        "id": "jUnxMO95l4vm",
        "colab": {
          "base_uri": "https://localhost:8080/",
          "height": 530
        },
        "outputId": "ffef6fce-7fa9-40a6-e205-14426971a8c5"
      },
      "source": [
        "plot_roc(y_test, lr_new.predict_proba(X_test), figsize=(12, 8))"
      ],
      "execution_count": 147,
      "outputs": [
        {
          "output_type": "execute_result",
          "data": {
            "text/plain": [
              "<matplotlib.axes._subplots.AxesSubplot at 0x7ff37dcff450>"
            ]
          },
          "metadata": {},
          "execution_count": 147
        },
        {
          "output_type": "display_data",
          "data": {
            "image/png": "[encoded data removed]",
            "text/plain": [
              "<Figure size 864x576 with 1 Axes>"
            ]
          },
          "metadata": {}
        }
      ]
    },
    {
      "cell_type": "markdown",
      "metadata": {
        "id": "Icd0L4AuQANH"
      },
      "source": [
        "#### 2.2. PCA: explained variance plot\n",
        "* Apply the PCA to the train part of the data. Build the explaided variance plot. "
      ]
    },
    {
      "cell_type": "code",
      "metadata": {
        "nbgrader": {
          "grade": true,
          "grade_id": "cell-c6c614740bce090e",
          "locked": false,
          "points": 10,
          "schema_version": 2,
          "solution": true
        },
        "id": "WsRI6DiTQANH",
        "colab": {
          "base_uri": "https://localhost:8080/"
        },
        "outputId": "97976d51-2dbf-4f20-ba3a-f779d5409701"
      },
      "source": [
        "pca = PCA().fit(X_train)\n",
        "variance = pca.explained_variance_ratio_.cumsum()\n",
        "\\\n"
      ],
      "execution_count": 156,
      "outputs": [
        {
          "output_type": "execute_result",
          "data": {
            "text/plain": [
              "array([0.52980136, 0.67687883, 0.78458934, 0.85595129, 0.90840172,\n",
              "       0.93632511, 0.96065822, 0.97155948, 0.98228505, 0.98749492,\n",
              "       0.99110882, 0.99421968, 0.9963887 , 0.99761439, 0.9985946 ,\n",
              "       0.99928573, 0.99967514, 0.99997881, 1.        ])"
            ]
          },
          "metadata": {},
          "execution_count": 156
        }
      ]
    },
    {
      "cell_type": "markdown",
      "metadata": {
        "nbgrader": {
          "grade": false,
          "grade_id": "cell-0c1fe666f52fe53c",
          "locked": true,
          "schema_version": 2,
          "solution": false
        },
        "id": "oH-kTM8YQANI"
      },
      "source": [
        "#### 2.3. PCA trasformation\n",
        "* Select the appropriate number of components. Briefly explain your choice. Should you normalize the data?\n",
        "\n",
        "*Use `fit` and `transform` methods to transform the `train` and `test` parts.*"
      ]
    },
    {
      "cell_type": "code",
      "metadata": {
        "nbgrader": {
          "grade": true,
          "grade_id": "cell-96ab18d96473ef71",
          "locked": false,
          "points": 5,
          "schema_version": 2,
          "solution": true
        },
        "id": "dOZSUQVDQANI"
      },
      "source": [
        "PCA = "
      ],
      "execution_count": null,
      "outputs": []
    },
    {
      "cell_type": "markdown",
      "metadata": {
        "id": "bTDCo5oUQANI"
      },
      "source": [
        "**Note: From this point `sklearn` [Pipeline](https://scikit-learn.org/stable/modules/compose.html) might be useful to perform transformations on the data. Refer to the [docs](https://scikit-learn.org/stable/modules/generated/sklearn.pipeline.Pipeline.html) for more information.**"
      ]
    },
    {
      "cell_type": "markdown",
      "metadata": {
        "nbgrader": {
          "grade": false,
          "grade_id": "cell-d28b58a35c94e988",
          "locked": true,
          "schema_version": 2,
          "solution": false
        },
        "id": "sDzNJByKQANI"
      },
      "source": [
        "#### 2.4. Logistic regression on PCA-preprocessed data.\n",
        "* Find optimal hyperparameters for logistic regression with cross-validation on the transformed by PCA `train` data.\n",
        "\n",
        "* Estimate the model quality with `f1` and `accuracy` scores.\n",
        "* Plot a ROC-curve for the trained model. For the multiclass case you might use `scikitplot` library (e.g. `scikitplot.metrics.plot_roc(test_labels, predicted_proba)`).\n",
        "\n",
        "*Note: please, use the following hyperparameters for logistic regression: `multi_class='multinomial'`, `solver='saga'` and `tol=1e-3`*"
      ]
    },
    {
      "cell_type": "code",
      "metadata": {
        "nbgrader": {
          "grade": true,
          "grade_id": "cell-12d53ea45258fa82",
          "locked": false,
          "points": 5,
          "schema_version": 2,
          "solution": true
        },
        "id": "k1qnc-l5QANJ"
      },
      "source": [
        "### YOUR CODE HERE"
      ],
      "execution_count": null,
      "outputs": []
    },
    {
      "cell_type": "markdown",
      "metadata": {
        "nbgrader": {
          "grade": false,
          "grade_id": "cell-4fbf16c64076e139",
          "locked": true,
          "schema_version": 2,
          "solution": false
        },
        "id": "RNb6o2p_QANJ"
      },
      "source": [
        "#### 2.5. Decision tree\n",
        "* Now train a desicion tree on the same data. Find optimal tree depth (`max_depth`) using cross-validation.\n",
        "\n",
        "* Measure the model quality using the same metrics you used above."
      ]
    },
    {
      "cell_type": "code",
      "metadata": {
        "nbgrader": {
          "grade": true,
          "grade_id": "cell-748ed20b51c67fab",
          "locked": false,
          "points": 15,
          "schema_version": 2,
          "solution": true
        },
        "id": "fz3D-PfIQANJ"
      },
      "source": [
        "from sklearn.tree import DecisionTreeClassifier\n",
        "\n",
        "# YOUR CODE HERE"
      ],
      "execution_count": null,
      "outputs": []
    },
    {
      "cell_type": "markdown",
      "metadata": {
        "nbgrader": {
          "grade": false,
          "grade_id": "cell-9eadd4d8a03ae67a",
          "locked": true,
          "schema_version": 2,
          "solution": false
        },
        "id": "9WHWsFXzQANK"
      },
      "source": [
        "#### 2.6. Bagging.\n",
        "Here starts the ensembling part.\n",
        "\n",
        "First we will use the __Bagging__ approach. Build an ensemble of $N$ algorithms varying N from $N_{min}=2$ to $N_{max}=100$ (with step 5).\n",
        "\n",
        "We will build two ensembles: of logistic regressions and of decision trees.\n",
        "\n",
        "*Comment: each ensemble should be constructed from models of the same family, so logistic regressions should not be mixed up with decision trees.*\n",
        "\n",
        "\n",
        "*Hint 1: To build a __Bagging__ ensebmle varying the ensemble size efficiently you might generate $N_{max}$ subsets of `train` data (of the same size as the original dataset) using bootstrap procedure once. Then you train a new instance of logistic regression/decision tree with optimal hyperparameters you estimated before on each subset (so you train it from scratch). Finally, to get an ensemble of $N$ models you average the $N$ out of $N_{max}$ models predictions.*\n",
        "\n",
        "*Hint 2: sklearn might help you with this taks. Some appropriate function/class might be out there.*\n",
        "\n",
        "* Plot `f1` and `accuracy` scores plots w.r.t. the size of the ensemble.\n",
        "\n",
        "* Briefly analyse the plot. What is the optimal number of algorithms? Explain your answer.\n",
        "\n",
        "* How do you think, are the hyperparameters for the decision trees you found in 2.5 optimal for trees used in ensemble? "
      ]
    },
    {
      "cell_type": "code",
      "metadata": {
        "nbgrader": {
          "grade": true,
          "grade_id": "cell-8fc95a2b206bdae1",
          "locked": false,
          "points": 35,
          "schema_version": 2,
          "solution": true
        },
        "id": "PjP_89DWQANL"
      },
      "source": [
        "# YOUR CODE HERE"
      ],
      "execution_count": null,
      "outputs": []
    },
    {
      "cell_type": "code",
      "metadata": {
        "id": "jWVY3aP7QANL"
      },
      "source": [
        ""
      ],
      "execution_count": null,
      "outputs": []
    },
    {
      "cell_type": "markdown",
      "metadata": {
        "nbgrader": {
          "grade": false,
          "grade_id": "cell-241b7691ab44cbfb",
          "locked": true,
          "schema_version": 2,
          "solution": false
        },
        "id": "oqzCx6MaQANL"
      },
      "source": [
        "#### 2.7. Random Forest\n",
        "Now we will work with the Random Forest (its `sklearn` implementation).\n",
        "\n",
        "* * Plot `f1` and `accuracy` scores plots w.r.t. the number of trees in Random Forest.\n",
        "\n",
        "* What is the optimal number of trees you've got? Is it different from the optimal number of logistic regressions/decision trees in 2.6? Explain the results briefly."
      ]
    },
    {
      "cell_type": "code",
      "metadata": {
        "nbgrader": {
          "grade": true,
          "grade_id": "cell-888755d0f3d91620",
          "locked": false,
          "points": 15,
          "schema_version": 2,
          "solution": true
        },
        "id": "G5KK84lPQANM"
      },
      "source": [
        "from sklearn.ensemble import RandomForestClassifier\n",
        "\n",
        "# YOUR CODE HERE"
      ],
      "execution_count": null,
      "outputs": []
    },
    {
      "cell_type": "markdown",
      "metadata": {
        "nbgrader": {
          "grade": false,
          "grade_id": "cell-99191c0852538d4d",
          "locked": true,
          "schema_version": 2,
          "solution": false
        },
        "id": "mIm9Ku-tQANM"
      },
      "source": [
        "#### 2.8. Learning curve\n",
        "Your goal is to estimate, how does the model behaviour change with the increase of the `train` dataset size.\n",
        "\n",
        "* Split the training data into 10 equal (almost) parts. Then train the models from above (Logistic regression, Desicion Tree, Random Forest) with optimal hyperparameters you have selected on 1 part, 2 parts (combined, so the train size in increased by 2 times), 3 parts and so on.\n",
        "\n",
        "* Build a plot of `accuracy` and `f1` scores on `test` part, varying the `train` dataset size (so the axes will be score - dataset size.\n",
        "\n",
        "* Analyse the final plot. Can you make any conlusions using it? "
      ]
    },
    {
      "cell_type": "code",
      "metadata": {
        "nbgrader": {
          "grade": true,
          "grade_id": "cell-e39bc7e7dff61ff9",
          "locked": false,
          "points": 15,
          "schema_version": 2,
          "solution": true
        },
        "id": "y7a_gn2JQANM"
      },
      "source": [
        "# YOUR CODE HERE"
      ],
      "execution_count": null,
      "outputs": []
    }
  ]
}